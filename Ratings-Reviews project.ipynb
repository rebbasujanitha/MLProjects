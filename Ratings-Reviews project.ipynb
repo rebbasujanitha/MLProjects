{
 "cells": [
  {
   "cell_type": "markdown",
   "id": "bdf38d6b",
   "metadata": {},
   "source": [
    "RATINGS PREDICTION PROJECT\n",
    "We have a client who has a website where people write different reviews for technical products. \n",
    "Now they are adding a new feature to their website i.e. The reviewer will have to add stars(rating) \n",
    "as well with the review. The rating is out 5 stars and it only has 5 options available 1 star, 2 stars, \n",
    "3 stars, 4 stars, 5 stars. Now they want to predict ratings for the reviews which were written in the \n",
    "past and they don’t have a rating. So, we have to build an application which can predict the rating \n",
    "by seeing the review."
   ]
  },
  {
   "cell_type": "code",
   "execution_count": 130,
   "id": "688867dc",
   "metadata": {},
   "outputs": [],
   "source": [
    "import pandas as pd\n",
    "import numpy as np\n",
    "import seaborn as sns\n",
    "import matplotlib.pyplot as plt\n",
    "import string\n",
    "import re\n",
    "import nltk\n",
    "from nltk.corpus import stopwords\n",
    "from sklearn.feature_extraction.text import TfidfVectorizer\n",
    "from nltk.corpus import wordnet\n",
    "from nltk.stem import WordNetLemmatizer, SnowballStemmer\n",
    "from nltk import pos_tag\n",
    "#from wordcloud import WordCloud\n",
    "from collections import Counter\n",
    "import warnings\n",
    "warnings.filterwarnings('ignore')"
   ]
  },
  {
   "cell_type": "code",
   "execution_count": 131,
   "id": "b04eaa52",
   "metadata": {},
   "outputs": [
    {
     "data": {
      "text/html": [
       "<div>\n",
       "<style scoped>\n",
       "    .dataframe tbody tr th:only-of-type {\n",
       "        vertical-align: middle;\n",
       "    }\n",
       "\n",
       "    .dataframe tbody tr th {\n",
       "        vertical-align: top;\n",
       "    }\n",
       "\n",
       "    .dataframe thead th {\n",
       "        text-align: right;\n",
       "    }\n",
       "</style>\n",
       "<table border=\"1\" class=\"dataframe\">\n",
       "  <thead>\n",
       "    <tr style=\"text-align: right;\">\n",
       "      <th></th>\n",
       "      <th>Unnamed: 0</th>\n",
       "      <th>rating</th>\n",
       "      <th>review_summary</th>\n",
       "      <th>full_review</th>\n",
       "    </tr>\n",
       "  </thead>\n",
       "  <tbody>\n",
       "    <tr>\n",
       "      <th>0</th>\n",
       "      <td>0</td>\n",
       "      <td>5.0 out of 5 stars</td>\n",
       "      <td>The best value for money Macbook in years.</td>\n",
       "      <td>The M1 obliterates other laptops in price to v...</td>\n",
       "    </tr>\n",
       "    <tr>\n",
       "      <th>1</th>\n",
       "      <td>1</td>\n",
       "      <td>5.0 out of 5 stars</td>\n",
       "      <td>Wonderful product. Just go for it</td>\n",
       "      <td>Awesome products. Unbelievably fast and respon...</td>\n",
       "    </tr>\n",
       "    <tr>\n",
       "      <th>2</th>\n",
       "      <td>2</td>\n",
       "      <td>5.0 out of 5 stars</td>\n",
       "      <td>Longterm review Fanless Wonder</td>\n",
       "      <td>I had fears about getting a laptop with passiv...</td>\n",
       "    </tr>\n",
       "    <tr>\n",
       "      <th>3</th>\n",
       "      <td>3</td>\n",
       "      <td>5.0 out of 5 stars</td>\n",
       "      <td>Worth investing!</td>\n",
       "      <td>It is worth investing in MAC because it gives ...</td>\n",
       "    </tr>\n",
       "    <tr>\n",
       "      <th>4</th>\n",
       "      <td>4</td>\n",
       "      <td>5.0 out of 5 stars</td>\n",
       "      <td>Unreal</td>\n",
       "      <td>This is the device that got me into Apple ecos...</td>\n",
       "    </tr>\n",
       "    <tr>\n",
       "      <th>...</th>\n",
       "      <td>...</td>\n",
       "      <td>...</td>\n",
       "      <td>...</td>\n",
       "      <td>...</td>\n",
       "    </tr>\n",
       "    <tr>\n",
       "      <th>13490</th>\n",
       "      <td>13490</td>\n",
       "      <td>1.0 out of 5 stars</td>\n",
       "      <td>WiFi signal problem started in just 4 months</td>\n",
       "      <td>WiFi signal problem started in just 4 months, ...</td>\n",
       "    </tr>\n",
       "    <tr>\n",
       "      <th>13491</th>\n",
       "      <td>13491</td>\n",
       "      <td>1.0 out of 5 stars</td>\n",
       "      <td>High Value Low Quality</td>\n",
       "      <td>The router is defective and after an year of u...</td>\n",
       "    </tr>\n",
       "    <tr>\n",
       "      <th>13492</th>\n",
       "      <td>13492</td>\n",
       "      <td>1.0 out of 5 stars</td>\n",
       "      <td>Worst product</td>\n",
       "      <td>The Router has been working fine for 1.5 month...</td>\n",
       "    </tr>\n",
       "    <tr>\n",
       "      <th>13493</th>\n",
       "      <td>13493</td>\n",
       "      <td>1.0 out of 5 stars</td>\n",
       "      <td>Poor Customer Service</td>\n",
       "      <td>Within 2 months of Purchase, this router has p...</td>\n",
       "    </tr>\n",
       "    <tr>\n",
       "      <th>13494</th>\n",
       "      <td>13494</td>\n",
       "      <td>1.0 out of 5 stars</td>\n",
       "      <td>Absolutely poor tech /customer support</td>\n",
       "      <td>The router stopped working few months after pu...</td>\n",
       "    </tr>\n",
       "  </tbody>\n",
       "</table>\n",
       "<p>13495 rows × 4 columns</p>\n",
       "</div>"
      ],
      "text/plain": [
       "       Unnamed: 0              rating  \\\n",
       "0               0  5.0 out of 5 stars   \n",
       "1               1  5.0 out of 5 stars   \n",
       "2               2  5.0 out of 5 stars   \n",
       "3               3  5.0 out of 5 stars   \n",
       "4               4  5.0 out of 5 stars   \n",
       "...           ...                 ...   \n",
       "13490       13490  1.0 out of 5 stars   \n",
       "13491       13491  1.0 out of 5 stars   \n",
       "13492       13492  1.0 out of 5 stars   \n",
       "13493       13493  1.0 out of 5 stars   \n",
       "13494       13494  1.0 out of 5 stars   \n",
       "\n",
       "                                     review_summary  \\\n",
       "0        The best value for money Macbook in years.   \n",
       "1                 Wonderful product. Just go for it   \n",
       "2                    Longterm review Fanless Wonder   \n",
       "3                                  Worth investing!   \n",
       "4                                            Unreal   \n",
       "...                                             ...   \n",
       "13490  WiFi signal problem started in just 4 months   \n",
       "13491                        High Value Low Quality   \n",
       "13492                                 Worst product   \n",
       "13493                         Poor Customer Service   \n",
       "13494        Absolutely poor tech /customer support   \n",
       "\n",
       "                                             full_review  \n",
       "0      The M1 obliterates other laptops in price to v...  \n",
       "1      Awesome products. Unbelievably fast and respon...  \n",
       "2      I had fears about getting a laptop with passiv...  \n",
       "3      It is worth investing in MAC because it gives ...  \n",
       "4      This is the device that got me into Apple ecos...  \n",
       "...                                                  ...  \n",
       "13490  WiFi signal problem started in just 4 months, ...  \n",
       "13491  The router is defective and after an year of u...  \n",
       "13492  The Router has been working fine for 1.5 month...  \n",
       "13493  Within 2 months of Purchase, this router has p...  \n",
       "13494  The router stopped working few months after pu...  \n",
       "\n",
       "[13495 rows x 4 columns]"
      ]
     },
     "execution_count": 131,
     "metadata": {},
     "output_type": "execute_result"
    }
   ],
   "source": [
    "df = pd.read_csv('scraped_data.csv')\n",
    "df"
   ]
  },
  {
   "cell_type": "code",
   "execution_count": 132,
   "id": "eec51ead",
   "metadata": {},
   "outputs": [
    {
     "data": {
      "text/plain": [
       "Index(['Unnamed: 0', 'rating', 'review_summary', 'full_review'], dtype='object')"
      ]
     },
     "execution_count": 132,
     "metadata": {},
     "output_type": "execute_result"
    }
   ],
   "source": [
    "df.columns"
   ]
  },
  {
   "cell_type": "code",
   "execution_count": 133,
   "id": "e774a39e",
   "metadata": {},
   "outputs": [],
   "source": [
    "#dropping the index column\n",
    "df.drop('Unnamed: 0',axis=1,inplace=True)"
   ]
  },
  {
   "cell_type": "code",
   "execution_count": 134,
   "id": "21b3c94f",
   "metadata": {},
   "outputs": [
    {
     "data": {
      "text/plain": [
       "(13495, 3)"
      ]
     },
     "execution_count": 134,
     "metadata": {},
     "output_type": "execute_result"
    }
   ],
   "source": [
    "df.shape"
   ]
  },
  {
   "cell_type": "code",
   "execution_count": 135,
   "id": "a9d89d08",
   "metadata": {},
   "outputs": [
    {
     "name": "stdout",
     "output_type": "stream",
     "text": [
      "<class 'pandas.core.frame.DataFrame'>\n",
      "RangeIndex: 13495 entries, 0 to 13494\n",
      "Data columns (total 3 columns):\n",
      " #   Column          Non-Null Count  Dtype \n",
      "---  ------          --------------  ----- \n",
      " 0   rating          13495 non-null  object\n",
      " 1   review_summary  13494 non-null  object\n",
      " 2   full_review     13138 non-null  object\n",
      "dtypes: object(3)\n",
      "memory usage: 158.2+ KB\n"
     ]
    }
   ],
   "source": [
    "df.info()"
   ]
  },
  {
   "cell_type": "code",
   "execution_count": 136,
   "id": "d1e277ca",
   "metadata": {},
   "outputs": [
    {
     "data": {
      "text/plain": [
       "rating            object\n",
       "review_summary    object\n",
       "full_review       object\n",
       "dtype: object"
      ]
     },
     "execution_count": 136,
     "metadata": {},
     "output_type": "execute_result"
    }
   ],
   "source": [
    "df.dtypes"
   ]
  },
  {
   "cell_type": "code",
   "execution_count": 137,
   "id": "f448f645",
   "metadata": {},
   "outputs": [
    {
     "data": {
      "text/html": [
       "<div>\n",
       "<style scoped>\n",
       "    .dataframe tbody tr th:only-of-type {\n",
       "        vertical-align: middle;\n",
       "    }\n",
       "\n",
       "    .dataframe tbody tr th {\n",
       "        vertical-align: top;\n",
       "    }\n",
       "\n",
       "    .dataframe thead th {\n",
       "        text-align: right;\n",
       "    }\n",
       "</style>\n",
       "<table border=\"1\" class=\"dataframe\">\n",
       "  <thead>\n",
       "    <tr style=\"text-align: right;\">\n",
       "      <th></th>\n",
       "      <th>rating</th>\n",
       "      <th>review_summary</th>\n",
       "      <th>full_review</th>\n",
       "    </tr>\n",
       "  </thead>\n",
       "  <tbody>\n",
       "    <tr>\n",
       "      <th>count</th>\n",
       "      <td>13495</td>\n",
       "      <td>13494</td>\n",
       "      <td>13138</td>\n",
       "    </tr>\n",
       "    <tr>\n",
       "      <th>unique</th>\n",
       "      <td>5</td>\n",
       "      <td>5825</td>\n",
       "      <td>6512</td>\n",
       "    </tr>\n",
       "    <tr>\n",
       "      <th>top</th>\n",
       "      <td>4.0 out of 5 stars</td>\n",
       "      <td>Good</td>\n",
       "      <td>Good</td>\n",
       "    </tr>\n",
       "    <tr>\n",
       "      <th>freq</th>\n",
       "      <td>4565</td>\n",
       "      <td>522</td>\n",
       "      <td>294</td>\n",
       "    </tr>\n",
       "  </tbody>\n",
       "</table>\n",
       "</div>"
      ],
      "text/plain": [
       "                    rating review_summary full_review\n",
       "count                13495          13494       13138\n",
       "unique                   5           5825        6512\n",
       "top     4.0 out of 5 stars           Good        Good\n",
       "freq                  4565            522         294"
      ]
     },
     "execution_count": 137,
     "metadata": {},
     "output_type": "execute_result"
    }
   ],
   "source": [
    "df.describe()"
   ]
  },
  {
   "cell_type": "code",
   "execution_count": 138,
   "id": "78acd512",
   "metadata": {},
   "outputs": [
    {
     "data": {
      "text/plain": [
       "4.0 out of 5 stars    4565\n",
       "3.0 out of 5 stars    2610\n",
       "5.0 out of 5 stars    2250\n",
       "2.0 out of 5 stars    2070\n",
       "1.0 out of 5 stars    2000\n",
       "Name: rating, dtype: int64"
      ]
     },
     "execution_count": 138,
     "metadata": {},
     "output_type": "execute_result"
    }
   ],
   "source": [
    "df['rating'].value_counts()"
   ]
  },
  {
   "cell_type": "code",
   "execution_count": 139,
   "id": "d6c5b8bb",
   "metadata": {},
   "outputs": [],
   "source": [
    "#Removing extra text\n",
    "df['rating']=df['rating'].str.replace('out of 5 stars','')"
   ]
  },
  {
   "cell_type": "code",
   "execution_count": 140,
   "id": "aaa321dc",
   "metadata": {},
   "outputs": [],
   "source": [
    "df['rating']=pd.to_numeric(df['rating']).astype(int)"
   ]
  },
  {
   "cell_type": "code",
   "execution_count": 141,
   "id": "7db13e20",
   "metadata": {},
   "outputs": [
    {
     "data": {
      "text/html": [
       "<div>\n",
       "<style scoped>\n",
       "    .dataframe tbody tr th:only-of-type {\n",
       "        vertical-align: middle;\n",
       "    }\n",
       "\n",
       "    .dataframe tbody tr th {\n",
       "        vertical-align: top;\n",
       "    }\n",
       "\n",
       "    .dataframe thead th {\n",
       "        text-align: right;\n",
       "    }\n",
       "</style>\n",
       "<table border=\"1\" class=\"dataframe\">\n",
       "  <thead>\n",
       "    <tr style=\"text-align: right;\">\n",
       "      <th></th>\n",
       "      <th>rating</th>\n",
       "      <th>review_summary</th>\n",
       "      <th>full_review</th>\n",
       "    </tr>\n",
       "  </thead>\n",
       "  <tbody>\n",
       "    <tr>\n",
       "      <th>0</th>\n",
       "      <td>5</td>\n",
       "      <td>The best value for money Macbook in years.</td>\n",
       "      <td>The M1 obliterates other laptops in price to v...</td>\n",
       "    </tr>\n",
       "    <tr>\n",
       "      <th>1</th>\n",
       "      <td>5</td>\n",
       "      <td>Wonderful product. Just go for it</td>\n",
       "      <td>Awesome products. Unbelievably fast and respon...</td>\n",
       "    </tr>\n",
       "    <tr>\n",
       "      <th>2</th>\n",
       "      <td>5</td>\n",
       "      <td>Longterm review Fanless Wonder</td>\n",
       "      <td>I had fears about getting a laptop with passiv...</td>\n",
       "    </tr>\n",
       "    <tr>\n",
       "      <th>3</th>\n",
       "      <td>5</td>\n",
       "      <td>Worth investing!</td>\n",
       "      <td>It is worth investing in MAC because it gives ...</td>\n",
       "    </tr>\n",
       "    <tr>\n",
       "      <th>4</th>\n",
       "      <td>5</td>\n",
       "      <td>Unreal</td>\n",
       "      <td>This is the device that got me into Apple ecos...</td>\n",
       "    </tr>\n",
       "  </tbody>\n",
       "</table>\n",
       "</div>"
      ],
      "text/plain": [
       "   rating                              review_summary  \\\n",
       "0       5  The best value for money Macbook in years.   \n",
       "1       5           Wonderful product. Just go for it   \n",
       "2       5              Longterm review Fanless Wonder   \n",
       "3       5                            Worth investing!   \n",
       "4       5                                      Unreal   \n",
       "\n",
       "                                         full_review  \n",
       "0  The M1 obliterates other laptops in price to v...  \n",
       "1  Awesome products. Unbelievably fast and respon...  \n",
       "2  I had fears about getting a laptop with passiv...  \n",
       "3  It is worth investing in MAC because it gives ...  \n",
       "4  This is the device that got me into Apple ecos...  "
      ]
     },
     "execution_count": 141,
     "metadata": {},
     "output_type": "execute_result"
    }
   ],
   "source": [
    "df.head(5)"
   ]
  },
  {
   "cell_type": "code",
   "execution_count": 142,
   "id": "8161e946",
   "metadata": {},
   "outputs": [
    {
     "data": {
      "text/plain": [
       "Index(['rating', 'review_summary', 'full_review'], dtype='object')"
      ]
     },
     "execution_count": 142,
     "metadata": {},
     "output_type": "execute_result"
    }
   ],
   "source": [
    "#splitting dataset\n",
    "df.columns"
   ]
  },
  {
   "cell_type": "code",
   "execution_count": 154,
   "id": "c8acbe11",
   "metadata": {},
   "outputs": [],
   "source": [
    "#converting text tot Tfid vector\n",
    "def tf_idf(column):\n",
    "    return TfidfVectorizer(min_df=3,smooth_idf=True).fit_transform(column)"
   ]
  },
  {
   "cell_type": "code",
   "execution_count": 155,
   "id": "a931f301",
   "metadata": {},
   "outputs": [],
   "source": [
    "#splitting column'\n",
    "x=df.drop('rating',axis=1)\n",
    "y=df['rating']"
   ]
  },
  {
   "cell_type": "code",
   "execution_count": 156,
   "id": "6c657315",
   "metadata": {},
   "outputs": [
    {
     "data": {
      "text/plain": [
       "Index(['review_summary', 'full_review'], dtype='object')"
      ]
     },
     "execution_count": 156,
     "metadata": {},
     "output_type": "execute_result"
    }
   ],
   "source": [
    "x.columns"
   ]
  },
  {
   "cell_type": "code",
   "execution_count": 157,
   "id": "28fc86b4",
   "metadata": {},
   "outputs": [],
   "source": [
    "x_merged = x['review_summary'] +' '+ x['full_review']"
   ]
  },
  {
   "cell_type": "code",
   "execution_count": 158,
   "id": "2b91e8aa",
   "metadata": {},
   "outputs": [],
   "source": [
    "x=tf_idf(x_merged.astype('U').values)"
   ]
  },
  {
   "cell_type": "code",
   "execution_count": 159,
   "id": "9e3c70ac",
   "metadata": {},
   "outputs": [
    {
     "data": {
      "text/plain": [
       "(13495, 7499)"
      ]
     },
     "execution_count": 159,
     "metadata": {},
     "output_type": "execute_result"
    }
   ],
   "source": [
    "x.shape                                                            "
   ]
  },
  {
   "cell_type": "code",
   "execution_count": 160,
   "id": "2cb9b1a6",
   "metadata": {},
   "outputs": [],
   "source": [
    "#Training Testing\n",
    "from sklearn.linear_model import LogisticRegression\n",
    "from sklearn.model_selection import train_test_split\n",
    "from sklearn.naive_bayes import BernoulliNB\n",
    "from sklearn.svm import SVC\n",
    "from sklearn.tree import DecisionTreeClassifier\n",
    "from sklearn.neighbors import KNeighborsClassifier\n",
    "from sklearn.ensemble import RandomForestClassifier\n",
    "from sklearn.metrics import accuracy_score\n",
    "from sklearn.metrics import confusion_matrix, f1_score, precision_score, recall_score\n",
    "from sklearn.metrics import classification_report, roc_auc_score, roc_curve\n",
    "import joblib\n",
    "from sklearn.metrics import log_loss\n",
    "from sklearn.model_selection import cross_val_score, cross_val_predict\n",
    "from sklearn.model_selection import GridSearchCV"
   ]
  },
  {
   "cell_type": "code",
   "execution_count": 161,
   "id": "03e112b5",
   "metadata": {},
   "outputs": [],
   "source": [
    "models = [\n",
    "    LogisticRegression(),\n",
    "    BernoulliNB(),\n",
    "    DecisionTreeClassifier(),\n",
    "    RandomForestClassifier(),\n",
    "    \n",
    "]"
   ]
  },
  {
   "cell_type": "code",
   "execution_count": 162,
   "id": "9569d42b",
   "metadata": {},
   "outputs": [
    {
     "name": "stdout",
     "output_type": "stream",
     "text": [
      "Model for: LogisticRegression()\n",
      "0.671359762875139\n",
      "[[272  51  36  25   4]\n",
      " [ 55 237  61  48   3]\n",
      " [ 29  53 289 134  13]\n",
      " [ 15  27  64 748  76]\n",
      " [  8  10  11 164 266]]\n",
      "              precision    recall  f1-score   support\n",
      "\n",
      "           1       0.72      0.70      0.71       388\n",
      "           2       0.63      0.59      0.61       404\n",
      "           3       0.63      0.56      0.59       518\n",
      "           4       0.67      0.80      0.73       930\n",
      "           5       0.73      0.58      0.65       459\n",
      "\n",
      "    accuracy                           0.67      2699\n",
      "   macro avg       0.67      0.65      0.66      2699\n",
      "weighted avg       0.67      0.67      0.67      2699\n",
      "\n",
      "----------------------------------------------------------------------------------------------------\n",
      "Model for: BernoulliNB()\n",
      "0.5379770285290848\n",
      "[[229  34  17 104   4]\n",
      " [ 41 164  30 167   2]\n",
      " [ 39  25 140 307   7]\n",
      " [ 22  25  28 792  63]\n",
      " [ 12   3   7 310 127]]\n",
      "              precision    recall  f1-score   support\n",
      "\n",
      "           1       0.67      0.59      0.63       388\n",
      "           2       0.65      0.41      0.50       404\n",
      "           3       0.63      0.27      0.38       518\n",
      "           4       0.47      0.85      0.61       930\n",
      "           5       0.63      0.28      0.38       459\n",
      "\n",
      "    accuracy                           0.54      2699\n",
      "   macro avg       0.61      0.48      0.50      2699\n",
      "weighted avg       0.58      0.54      0.51      2699\n",
      "\n",
      "----------------------------------------------------------------------------------------------------\n",
      "Model for: DecisionTreeClassifier()\n",
      "0.7528714338643943\n",
      "[[260  59  34  23  12]\n",
      " [ 40 281  45  25  13]\n",
      " [ 28  41 355  78  16]\n",
      " [ 18  16  27 838  31]\n",
      " [ 17   7  19 118 298]]\n",
      "              precision    recall  f1-score   support\n",
      "\n",
      "           1       0.72      0.67      0.69       388\n",
      "           2       0.70      0.70      0.70       404\n",
      "           3       0.74      0.69      0.71       518\n",
      "           4       0.77      0.90      0.83       930\n",
      "           5       0.81      0.65      0.72       459\n",
      "\n",
      "    accuracy                           0.75      2699\n",
      "   macro avg       0.75      0.72      0.73      2699\n",
      "weighted avg       0.75      0.75      0.75      2699\n",
      "\n",
      "----------------------------------------------------------------------------------------------------\n",
      "Model for: RandomForestClassifier()\n",
      "0.773249351611708\n",
      "[[315  21  20  27   5]\n",
      " [ 56 277  37  32   2]\n",
      " [ 43  24 345 100   6]\n",
      " [ 10   7  19 853  41]\n",
      " [ 11   2  10 139 297]]\n",
      "              precision    recall  f1-score   support\n",
      "\n",
      "           1       0.72      0.81      0.77       388\n",
      "           2       0.84      0.69      0.75       404\n",
      "           3       0.80      0.67      0.73       518\n",
      "           4       0.74      0.92      0.82       930\n",
      "           5       0.85      0.65      0.73       459\n",
      "\n",
      "    accuracy                           0.77      2699\n",
      "   macro avg       0.79      0.75      0.76      2699\n",
      "weighted avg       0.78      0.77      0.77      2699\n",
      "\n",
      "----------------------------------------------------------------------------------------------------\n"
     ]
    }
   ],
   "source": [
    "for model in models:\n",
    "    x_train, x_test, y_train, y_test = train_test_split(x,y,test_size=.20,random_state=42)\n",
    "    model.fit(x_train,y_train)\n",
    "    y_pred = model.predict(x_test)\n",
    "    print('Model for:',model)\n",
    "    print(accuracy_score(y_test,y_pred))\n",
    "    print(confusion_matrix(y_test,y_pred))\n",
    "    print(classification_report(y_test,y_pred))\n",
    "    print('-'*100)"
   ]
  },
  {
   "cell_type": "code",
   "execution_count": 163,
   "id": "fa4752f2",
   "metadata": {},
   "outputs": [
    {
     "name": "stdout",
     "output_type": "stream",
     "text": [
      "Fitting 5 folds for each of 24 candidates, totalling 120 fits\n",
      "[CV 1/5] END max_depth=10, max_features=auto, min_samples_leaf=1;, score=0.443 total time=   2.9s\n",
      "[CV 2/5] END max_depth=10, max_features=auto, min_samples_leaf=1;, score=0.413 total time=   2.4s\n",
      "[CV 3/5] END max_depth=10, max_features=auto, min_samples_leaf=1;, score=0.388 total time=   4.0s\n",
      "[CV 4/5] END max_depth=10, max_features=auto, min_samples_leaf=1;, score=0.369 total time=   3.7s\n",
      "[CV 5/5] END max_depth=10, max_features=auto, min_samples_leaf=1;, score=0.385 total time=   5.8s\n",
      "[CV 1/5] END max_depth=10, max_features=auto, min_samples_leaf=2;, score=0.427 total time=   3.3s\n",
      "[CV 2/5] END max_depth=10, max_features=auto, min_samples_leaf=2;, score=0.406 total time=   2.6s\n",
      "[CV 3/5] END max_depth=10, max_features=auto, min_samples_leaf=2;, score=0.383 total time=   3.0s\n",
      "[CV 4/5] END max_depth=10, max_features=auto, min_samples_leaf=2;, score=0.366 total time=   3.1s\n",
      "[CV 5/5] END max_depth=10, max_features=auto, min_samples_leaf=2;, score=0.378 total time=   3.1s\n",
      "[CV 1/5] END max_depth=10, max_features=auto, min_samples_leaf=3;, score=0.423 total time=   2.8s\n",
      "[CV 2/5] END max_depth=10, max_features=auto, min_samples_leaf=3;, score=0.398 total time=   2.7s\n",
      "[CV 3/5] END max_depth=10, max_features=auto, min_samples_leaf=3;, score=0.384 total time=   3.2s\n",
      "[CV 4/5] END max_depth=10, max_features=auto, min_samples_leaf=3;, score=0.369 total time=   3.5s\n",
      "[CV 5/5] END max_depth=10, max_features=auto, min_samples_leaf=3;, score=0.382 total time=   3.3s\n",
      "[CV 1/5] END max_depth=10, max_features=sqrt, min_samples_leaf=1;, score=0.433 total time=   3.0s\n",
      "[CV 2/5] END max_depth=10, max_features=sqrt, min_samples_leaf=1;, score=0.410 total time=   2.7s\n",
      "[CV 3/5] END max_depth=10, max_features=sqrt, min_samples_leaf=1;, score=0.387 total time=   3.3s\n",
      "[CV 4/5] END max_depth=10, max_features=sqrt, min_samples_leaf=1;, score=0.372 total time=   3.3s\n",
      "[CV 5/5] END max_depth=10, max_features=sqrt, min_samples_leaf=1;, score=0.386 total time=   3.4s\n",
      "[CV 1/5] END max_depth=10, max_features=sqrt, min_samples_leaf=2;, score=0.437 total time=   3.7s\n",
      "[CV 2/5] END max_depth=10, max_features=sqrt, min_samples_leaf=2;, score=0.402 total time=   4.5s\n",
      "[CV 3/5] END max_depth=10, max_features=sqrt, min_samples_leaf=2;, score=0.382 total time=   3.1s\n",
      "[CV 4/5] END max_depth=10, max_features=sqrt, min_samples_leaf=2;, score=0.366 total time=   3.2s\n",
      "[CV 5/5] END max_depth=10, max_features=sqrt, min_samples_leaf=2;, score=0.386 total time=   3.1s\n",
      "[CV 1/5] END max_depth=10, max_features=sqrt, min_samples_leaf=3;, score=0.427 total time=   2.8s\n",
      "[CV 2/5] END max_depth=10, max_features=sqrt, min_samples_leaf=3;, score=0.403 total time=   2.2s\n",
      "[CV 3/5] END max_depth=10, max_features=sqrt, min_samples_leaf=3;, score=0.382 total time=   3.1s\n",
      "[CV 4/5] END max_depth=10, max_features=sqrt, min_samples_leaf=3;, score=0.371 total time=   3.1s\n",
      "[CV 5/5] END max_depth=10, max_features=sqrt, min_samples_leaf=3;, score=0.383 total time=   3.3s\n",
      "[CV 1/5] END max_depth=11, max_features=auto, min_samples_leaf=1;, score=0.452 total time=   3.5s\n",
      "[CV 2/5] END max_depth=11, max_features=auto, min_samples_leaf=1;, score=0.429 total time=   3.3s\n",
      "[CV 3/5] END max_depth=11, max_features=auto, min_samples_leaf=1;, score=0.392 total time=   5.1s\n",
      "[CV 4/5] END max_depth=11, max_features=auto, min_samples_leaf=1;, score=0.373 total time=   5.4s\n",
      "[CV 5/5] END max_depth=11, max_features=auto, min_samples_leaf=1;, score=0.383 total time=   5.2s\n",
      "[CV 1/5] END max_depth=11, max_features=auto, min_samples_leaf=2;, score=0.452 total time=   3.5s\n",
      "[CV 2/5] END max_depth=11, max_features=auto, min_samples_leaf=2;, score=0.415 total time=   3.1s\n",
      "[CV 3/5] END max_depth=11, max_features=auto, min_samples_leaf=2;, score=0.388 total time=   3.4s\n",
      "[CV 4/5] END max_depth=11, max_features=auto, min_samples_leaf=2;, score=0.364 total time=   3.3s\n",
      "[CV 5/5] END max_depth=11, max_features=auto, min_samples_leaf=2;, score=0.386 total time=   4.3s\n",
      "[CV 1/5] END max_depth=11, max_features=auto, min_samples_leaf=3;, score=0.443 total time=   3.2s\n",
      "[CV 2/5] END max_depth=11, max_features=auto, min_samples_leaf=3;, score=0.406 total time=   3.2s\n",
      "[CV 3/5] END max_depth=11, max_features=auto, min_samples_leaf=3;, score=0.385 total time=   3.6s\n",
      "[CV 4/5] END max_depth=11, max_features=auto, min_samples_leaf=3;, score=0.366 total time=   3.2s\n",
      "[CV 5/5] END max_depth=11, max_features=auto, min_samples_leaf=3;, score=0.385 total time=   3.5s\n",
      "[CV 1/5] END max_depth=11, max_features=sqrt, min_samples_leaf=1;, score=0.461 total time=   3.4s\n",
      "[CV 2/5] END max_depth=11, max_features=sqrt, min_samples_leaf=1;, score=0.423 total time=   2.8s\n",
      "[CV 3/5] END max_depth=11, max_features=sqrt, min_samples_leaf=1;, score=0.400 total time=   3.2s\n",
      "[CV 4/5] END max_depth=11, max_features=sqrt, min_samples_leaf=1;, score=0.373 total time=   3.4s\n",
      "[CV 5/5] END max_depth=11, max_features=sqrt, min_samples_leaf=1;, score=0.388 total time=   3.5s\n",
      "[CV 1/5] END max_depth=11, max_features=sqrt, min_samples_leaf=2;, score=0.440 total time=   3.4s\n",
      "[CV 2/5] END max_depth=11, max_features=sqrt, min_samples_leaf=2;, score=0.423 total time=   3.1s\n",
      "[CV 3/5] END max_depth=11, max_features=sqrt, min_samples_leaf=2;, score=0.398 total time=   3.3s\n",
      "[CV 4/5] END max_depth=11, max_features=sqrt, min_samples_leaf=2;, score=0.362 total time=   3.3s\n",
      "[CV 5/5] END max_depth=11, max_features=sqrt, min_samples_leaf=2;, score=0.392 total time=   3.6s\n",
      "[CV 1/5] END max_depth=11, max_features=sqrt, min_samples_leaf=3;, score=0.436 total time=   3.1s\n",
      "[CV 2/5] END max_depth=11, max_features=sqrt, min_samples_leaf=3;, score=0.410 total time=   2.7s\n",
      "[CV 3/5] END max_depth=11, max_features=sqrt, min_samples_leaf=3;, score=0.389 total time=   3.2s\n",
      "[CV 4/5] END max_depth=11, max_features=sqrt, min_samples_leaf=3;, score=0.372 total time=   3.3s\n",
      "[CV 5/5] END max_depth=11, max_features=sqrt, min_samples_leaf=3;, score=0.383 total time=   3.3s\n",
      "[CV 1/5] END max_depth=12, max_features=auto, min_samples_leaf=1;, score=0.476 total time=   4.3s\n",
      "[CV 2/5] END max_depth=12, max_features=auto, min_samples_leaf=1;, score=0.435 total time=   4.4s\n",
      "[CV 3/5] END max_depth=12, max_features=auto, min_samples_leaf=1;, score=0.396 total time=   4.5s\n",
      "[CV 4/5] END max_depth=12, max_features=auto, min_samples_leaf=1;, score=0.381 total time=   4.8s\n",
      "[CV 5/5] END max_depth=12, max_features=auto, min_samples_leaf=1;, score=0.399 total time=   4.2s\n",
      "[CV 1/5] END max_depth=12, max_features=auto, min_samples_leaf=2;, score=0.469 total time=   3.5s\n",
      "[CV 2/5] END max_depth=12, max_features=auto, min_samples_leaf=2;, score=0.431 total time=   2.9s\n",
      "[CV 3/5] END max_depth=12, max_features=auto, min_samples_leaf=2;, score=0.395 total time=   3.9s\n",
      "[CV 4/5] END max_depth=12, max_features=auto, min_samples_leaf=2;, score=0.377 total time=   4.1s\n",
      "[CV 5/5] END max_depth=12, max_features=auto, min_samples_leaf=2;, score=0.395 total time=   4.7s\n",
      "[CV 1/5] END max_depth=12, max_features=auto, min_samples_leaf=3;, score=0.450 total time=   4.0s\n",
      "[CV 2/5] END max_depth=12, max_features=auto, min_samples_leaf=3;, score=0.419 total time=   3.0s\n",
      "[CV 3/5] END max_depth=12, max_features=auto, min_samples_leaf=3;, score=0.401 total time=   3.3s\n",
      "[CV 4/5] END max_depth=12, max_features=auto, min_samples_leaf=3;, score=0.372 total time=   3.6s\n",
      "[CV 5/5] END max_depth=12, max_features=auto, min_samples_leaf=3;, score=0.395 total time=   3.8s\n",
      "[CV 1/5] END max_depth=12, max_features=sqrt, min_samples_leaf=1;, score=0.474 total time=   4.0s\n",
      "[CV 2/5] END max_depth=12, max_features=sqrt, min_samples_leaf=1;, score=0.432 total time=   3.2s\n",
      "[CV 3/5] END max_depth=12, max_features=sqrt, min_samples_leaf=1;, score=0.408 total time=   3.5s\n",
      "[CV 4/5] END max_depth=12, max_features=sqrt, min_samples_leaf=1;, score=0.373 total time=   3.8s\n",
      "[CV 5/5] END max_depth=12, max_features=sqrt, min_samples_leaf=1;, score=0.385 total time=   3.8s\n",
      "[CV 1/5] END max_depth=12, max_features=sqrt, min_samples_leaf=2;, score=0.469 total time=   3.5s\n",
      "[CV 2/5] END max_depth=12, max_features=sqrt, min_samples_leaf=2;, score=0.431 total time=   3.4s\n",
      "[CV 3/5] END max_depth=12, max_features=sqrt, min_samples_leaf=2;, score=0.401 total time=   3.5s\n"
     ]
    },
    {
     "name": "stdout",
     "output_type": "stream",
     "text": [
      "[CV 4/5] END max_depth=12, max_features=sqrt, min_samples_leaf=2;, score=0.373 total time=   4.3s\n",
      "[CV 5/5] END max_depth=12, max_features=sqrt, min_samples_leaf=2;, score=0.390 total time=   4.4s\n",
      "[CV 1/5] END max_depth=12, max_features=sqrt, min_samples_leaf=3;, score=0.456 total time=   3.5s\n",
      "[CV 2/5] END max_depth=12, max_features=sqrt, min_samples_leaf=3;, score=0.427 total time=   3.1s\n",
      "[CV 3/5] END max_depth=12, max_features=sqrt, min_samples_leaf=3;, score=0.392 total time=   5.1s\n",
      "[CV 4/5] END max_depth=12, max_features=sqrt, min_samples_leaf=3;, score=0.372 total time=   4.0s\n",
      "[CV 5/5] END max_depth=12, max_features=sqrt, min_samples_leaf=3;, score=0.392 total time=   4.2s\n",
      "[CV 1/5] END max_depth=13, max_features=auto, min_samples_leaf=1;, score=0.504 total time=   5.6s\n",
      "[CV 2/5] END max_depth=13, max_features=auto, min_samples_leaf=1;, score=0.445 total time=   4.2s\n",
      "[CV 3/5] END max_depth=13, max_features=auto, min_samples_leaf=1;, score=0.419 total time=   5.3s\n",
      "[CV 4/5] END max_depth=13, max_features=auto, min_samples_leaf=1;, score=0.377 total time=   5.2s\n",
      "[CV 5/5] END max_depth=13, max_features=auto, min_samples_leaf=1;, score=0.399 total time=   4.5s\n",
      "[CV 1/5] END max_depth=13, max_features=auto, min_samples_leaf=2;, score=0.468 total time=   5.7s\n",
      "[CV 2/5] END max_depth=13, max_features=auto, min_samples_leaf=2;, score=0.436 total time=   5.3s\n",
      "[CV 3/5] END max_depth=13, max_features=auto, min_samples_leaf=2;, score=0.407 total time=   8.9s\n",
      "[CV 4/5] END max_depth=13, max_features=auto, min_samples_leaf=2;, score=0.371 total time=   5.0s\n",
      "[CV 5/5] END max_depth=13, max_features=auto, min_samples_leaf=2;, score=0.396 total time=   9.7s\n",
      "[CV 1/5] END max_depth=13, max_features=auto, min_samples_leaf=3;, score=0.468 total time=   6.6s\n",
      "[CV 2/5] END max_depth=13, max_features=auto, min_samples_leaf=3;, score=0.430 total time=   4.2s\n",
      "[CV 3/5] END max_depth=13, max_features=auto, min_samples_leaf=3;, score=0.406 total time=   6.2s\n",
      "[CV 4/5] END max_depth=13, max_features=auto, min_samples_leaf=3;, score=0.373 total time=   4.8s\n",
      "[CV 5/5] END max_depth=13, max_features=auto, min_samples_leaf=3;, score=0.398 total time=   4.4s\n",
      "[CV 1/5] END max_depth=13, max_features=sqrt, min_samples_leaf=1;, score=0.500 total time=   4.1s\n",
      "[CV 2/5] END max_depth=13, max_features=sqrt, min_samples_leaf=1;, score=0.440 total time=   3.4s\n",
      "[CV 3/5] END max_depth=13, max_features=sqrt, min_samples_leaf=1;, score=0.419 total time=   3.9s\n",
      "[CV 4/5] END max_depth=13, max_features=sqrt, min_samples_leaf=1;, score=0.379 total time=   4.1s\n",
      "[CV 5/5] END max_depth=13, max_features=sqrt, min_samples_leaf=1;, score=0.406 total time=   4.3s\n",
      "[CV 1/5] END max_depth=13, max_features=sqrt, min_samples_leaf=2;, score=0.476 total time=   3.6s\n",
      "[CV 2/5] END max_depth=13, max_features=sqrt, min_samples_leaf=2;, score=0.433 total time=   3.1s\n",
      "[CV 3/5] END max_depth=13, max_features=sqrt, min_samples_leaf=2;, score=0.409 total time=   3.7s\n",
      "[CV 4/5] END max_depth=13, max_features=sqrt, min_samples_leaf=2;, score=0.362 total time=   3.9s\n",
      "[CV 5/5] END max_depth=13, max_features=sqrt, min_samples_leaf=2;, score=0.398 total time=   3.9s\n",
      "[CV 1/5] END max_depth=13, max_features=sqrt, min_samples_leaf=3;, score=0.468 total time=   3.5s\n",
      "[CV 2/5] END max_depth=13, max_features=sqrt, min_samples_leaf=3;, score=0.425 total time=   2.9s\n",
      "[CV 3/5] END max_depth=13, max_features=sqrt, min_samples_leaf=3;, score=0.400 total time=   3.6s\n",
      "[CV 4/5] END max_depth=13, max_features=sqrt, min_samples_leaf=3;, score=0.376 total time=   4.5s\n",
      "[CV 5/5] END max_depth=13, max_features=sqrt, min_samples_leaf=3;, score=0.395 total time=   6.6s\n"
     ]
    },
    {
     "data": {
      "text/html": [
       "<style>#sk-container-id-2 {color: black;background-color: white;}#sk-container-id-2 pre{padding: 0;}#sk-container-id-2 div.sk-toggleable {background-color: white;}#sk-container-id-2 label.sk-toggleable__label {cursor: pointer;display: block;width: 100%;margin-bottom: 0;padding: 0.3em;box-sizing: border-box;text-align: center;}#sk-container-id-2 label.sk-toggleable__label-arrow:before {content: \"▸\";float: left;margin-right: 0.25em;color: #696969;}#sk-container-id-2 label.sk-toggleable__label-arrow:hover:before {color: black;}#sk-container-id-2 div.sk-estimator:hover label.sk-toggleable__label-arrow:before {color: black;}#sk-container-id-2 div.sk-toggleable__content {max-height: 0;max-width: 0;overflow: hidden;text-align: left;background-color: #f0f8ff;}#sk-container-id-2 div.sk-toggleable__content pre {margin: 0.2em;color: black;border-radius: 0.25em;background-color: #f0f8ff;}#sk-container-id-2 input.sk-toggleable__control:checked~div.sk-toggleable__content {max-height: 200px;max-width: 100%;overflow: auto;}#sk-container-id-2 input.sk-toggleable__control:checked~label.sk-toggleable__label-arrow:before {content: \"▾\";}#sk-container-id-2 div.sk-estimator input.sk-toggleable__control:checked~label.sk-toggleable__label {background-color: #d4ebff;}#sk-container-id-2 div.sk-label input.sk-toggleable__control:checked~label.sk-toggleable__label {background-color: #d4ebff;}#sk-container-id-2 input.sk-hidden--visually {border: 0;clip: rect(1px 1px 1px 1px);clip: rect(1px, 1px, 1px, 1px);height: 1px;margin: -1px;overflow: hidden;padding: 0;position: absolute;width: 1px;}#sk-container-id-2 div.sk-estimator {font-family: monospace;background-color: #f0f8ff;border: 1px dotted black;border-radius: 0.25em;box-sizing: border-box;margin-bottom: 0.5em;}#sk-container-id-2 div.sk-estimator:hover {background-color: #d4ebff;}#sk-container-id-2 div.sk-parallel-item::after {content: \"\";width: 100%;border-bottom: 1px solid gray;flex-grow: 1;}#sk-container-id-2 div.sk-label:hover label.sk-toggleable__label {background-color: #d4ebff;}#sk-container-id-2 div.sk-serial::before {content: \"\";position: absolute;border-left: 1px solid gray;box-sizing: border-box;top: 0;bottom: 0;left: 50%;z-index: 0;}#sk-container-id-2 div.sk-serial {display: flex;flex-direction: column;align-items: center;background-color: white;padding-right: 0.2em;padding-left: 0.2em;position: relative;}#sk-container-id-2 div.sk-item {position: relative;z-index: 1;}#sk-container-id-2 div.sk-parallel {display: flex;align-items: stretch;justify-content: center;background-color: white;position: relative;}#sk-container-id-2 div.sk-item::before, #sk-container-id-2 div.sk-parallel-item::before {content: \"\";position: absolute;border-left: 1px solid gray;box-sizing: border-box;top: 0;bottom: 0;left: 50%;z-index: -1;}#sk-container-id-2 div.sk-parallel-item {display: flex;flex-direction: column;z-index: 1;position: relative;background-color: white;}#sk-container-id-2 div.sk-parallel-item:first-child::after {align-self: flex-end;width: 50%;}#sk-container-id-2 div.sk-parallel-item:last-child::after {align-self: flex-start;width: 50%;}#sk-container-id-2 div.sk-parallel-item:only-child::after {width: 0;}#sk-container-id-2 div.sk-dashed-wrapped {border: 1px dashed gray;margin: 0 0.4em 0.5em 0.4em;box-sizing: border-box;padding-bottom: 0.4em;background-color: white;}#sk-container-id-2 div.sk-label label {font-family: monospace;font-weight: bold;display: inline-block;line-height: 1.2em;}#sk-container-id-2 div.sk-label-container {text-align: center;}#sk-container-id-2 div.sk-container {/* jupyter's `normalize.less` sets `[hidden] { display: none; }` but bootstrap.min.css set `[hidden] { display: none !important; }` so we also need the `!important` here to be able to override the default hidden behavior on the sphinx rendered scikit-learn.org. See: https://github.com/scikit-learn/scikit-learn/issues/21755 */display: inline-block !important;position: relative;}#sk-container-id-2 div.sk-text-repr-fallback {display: none;}</style><div id=\"sk-container-id-2\" class=\"sk-top-container\"><div class=\"sk-text-repr-fallback\"><pre>GridSearchCV(estimator=RandomForestClassifier(),\n",
       "             param_grid={&#x27;max_depth&#x27;: range(10, 14),\n",
       "                         &#x27;max_features&#x27;: [&#x27;auto&#x27;, &#x27;sqrt&#x27;],\n",
       "                         &#x27;min_samples_leaf&#x27;: range(1, 4)},\n",
       "             verbose=3)</pre><b>In a Jupyter environment, please rerun this cell to show the HTML representation or trust the notebook. <br />On GitHub, the HTML representation is unable to render, please try loading this page with nbviewer.org.</b></div><div class=\"sk-container\" hidden><div class=\"sk-item sk-dashed-wrapped\"><div class=\"sk-label-container\"><div class=\"sk-label sk-toggleable\"><input class=\"sk-toggleable__control sk-hidden--visually\" id=\"sk-estimator-id-4\" type=\"checkbox\" ><label for=\"sk-estimator-id-4\" class=\"sk-toggleable__label sk-toggleable__label-arrow\">GridSearchCV</label><div class=\"sk-toggleable__content\"><pre>GridSearchCV(estimator=RandomForestClassifier(),\n",
       "             param_grid={&#x27;max_depth&#x27;: range(10, 14),\n",
       "                         &#x27;max_features&#x27;: [&#x27;auto&#x27;, &#x27;sqrt&#x27;],\n",
       "                         &#x27;min_samples_leaf&#x27;: range(1, 4)},\n",
       "             verbose=3)</pre></div></div></div><div class=\"sk-parallel\"><div class=\"sk-parallel-item\"><div class=\"sk-item\"><div class=\"sk-label-container\"><div class=\"sk-label sk-toggleable\"><input class=\"sk-toggleable__control sk-hidden--visually\" id=\"sk-estimator-id-5\" type=\"checkbox\" ><label for=\"sk-estimator-id-5\" class=\"sk-toggleable__label sk-toggleable__label-arrow\">estimator: RandomForestClassifier</label><div class=\"sk-toggleable__content\"><pre>RandomForestClassifier()</pre></div></div></div><div class=\"sk-serial\"><div class=\"sk-item\"><div class=\"sk-estimator sk-toggleable\"><input class=\"sk-toggleable__control sk-hidden--visually\" id=\"sk-estimator-id-6\" type=\"checkbox\" ><label for=\"sk-estimator-id-6\" class=\"sk-toggleable__label sk-toggleable__label-arrow\">RandomForestClassifier</label><div class=\"sk-toggleable__content\"><pre>RandomForestClassifier()</pre></div></div></div></div></div></div></div></div></div></div>"
      ],
      "text/plain": [
       "GridSearchCV(estimator=RandomForestClassifier(),\n",
       "             param_grid={'max_depth': range(10, 14),\n",
       "                         'max_features': ['auto', 'sqrt'],\n",
       "                         'min_samples_leaf': range(1, 4)},\n",
       "             verbose=3)"
      ]
     },
     "execution_count": 163,
     "metadata": {},
     "output_type": "execute_result"
    }
   ],
   "source": [
    "# Best modal is random forest so doing Hyper parameter on that \n",
    "param_grid = {\n",
    "    'max_depth' : range(10,14),\n",
    "    'max_features' : ['auto', 'sqrt'],\n",
    "    'min_samples_leaf': range(1, 4)\n",
    "}\n",
    "gridSearchCV = GridSearchCV(RandomForestClassifier(),param_grid=param_grid,refit=True,verbose=3)\n",
    "gridSearchCV.fit(x,y)"
   ]
  },
  {
   "cell_type": "code",
   "execution_count": 164,
   "id": "24480dec",
   "metadata": {},
   "outputs": [
    {
     "data": {
      "text/plain": [
       "{'max_depth': 13, 'max_features': 'sqrt', 'min_samples_leaf': 1}"
      ]
     },
     "execution_count": 164,
     "metadata": {},
     "output_type": "execute_result"
    }
   ],
   "source": [
    "gridSearchCV.best_params_"
   ]
  },
  {
   "cell_type": "code",
   "execution_count": 165,
   "id": "9c50a083",
   "metadata": {},
   "outputs": [
    {
     "data": {
      "text/plain": [
       "['randomForestClassifier.obj']"
      ]
     },
     "execution_count": 165,
     "metadata": {},
     "output_type": "execute_result"
    }
   ],
   "source": [
    "joblib.dump(gridSearchCV.best_estimator_,'randomForestClassifier.obj')"
   ]
  },
  {
   "cell_type": "code",
   "execution_count": null,
   "id": "cca3a28c",
   "metadata": {},
   "outputs": [],
   "source": []
  }
 ],
 "metadata": {
  "kernelspec": {
   "display_name": "Python 3",
   "language": "python",
   "name": "python3"
  },
  "language_info": {
   "codemirror_mode": {
    "name": "ipython",
    "version": 3
   },
   "file_extension": ".py",
   "mimetype": "text/x-python",
   "name": "python",
   "nbconvert_exporter": "python",
   "pygments_lexer": "ipython3",
   "version": "3.8.8"
  }
 },
 "nbformat": 4,
 "nbformat_minor": 5
}
