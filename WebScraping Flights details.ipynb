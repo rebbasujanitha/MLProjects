{
 "cells": [
  {
   "cell_type": "code",
   "execution_count": 1,
   "id": "d849385e",
   "metadata": {},
   "outputs": [],
   "source": [
    "import selenium\n",
    "from selenium import webdriver\n",
    "from selenium.common.exceptions import NoSuchElementException,ElementNotInteractableException\n",
    "import warnings\n",
    "warnings.filterwarnings('ignore')\n",
    "import time\n",
    "from selenium.webdriver.support.ui import WebDriverWait\n",
    "from selenium.webdriver.common.by import By\n",
    "from selenium.webdriver.support import expected_conditions as EC"
   ]
  },
  {
   "cell_type": "code",
   "execution_count": 2,
   "id": "cea881f1",
   "metadata": {},
   "outputs": [],
   "source": [
    "driver=webdriver.Chrome(r'C:\\Users\\polasasuresh\\Downloads\\chromedriver_win32 (2)\\chromedriver.exe')"
   ]
  },
  {
   "cell_type": "code",
   "execution_count": 3,
   "id": "9b085a10",
   "metadata": {},
   "outputs": [],
   "source": [
    "url = \"https://yatra.com/\"\n",
    "driver.get(url)\n",
    "time.sleep(2)"
   ]
  },
  {
   "cell_type": "code",
   "execution_count": 8,
   "id": "79e84e07",
   "metadata": {},
   "outputs": [],
   "source": [
    "url = \"https://flight.yatra.com/air-search-ui/dom2/trigger?ADT=1&CHD=0&INF=0&class=Economy&destination=BOM&destinationCountry=IN&flexi=0&flight_depart_date=07%2F08%2F2022&hb=&noOfSegments=1&origin=DEL&originCountry=IN&type=O&unique=1642406590202&viewName=normal\"\n",
    "driver.get(url)\n",
    "time.sleep(2)"
   ]
  },
  {
   "cell_type": "code",
   "execution_count": 9,
   "id": "39186865",
   "metadata": {},
   "outputs": [],
   "source": [
    "Airlines = []\n",
    "Aeroplane = []\n",
    "Dept_time = []\n",
    "Arrival_time = []\n",
    "Source = []\n",
    "Destination = []\n",
    "Duration = []\n",
    "Stops = []\n",
    "Date = []\n",
    "Price = []"
   ]
  },
  {
   "cell_type": "code",
   "execution_count": 10,
   "id": "71d58445",
   "metadata": {},
   "outputs": [
    {
     "name": "stderr",
     "output_type": "stream",
     "text": [
      "100%|██████████████████████████████████████████████████████████████████████████████████| 50/50 [00:16<00:00,  3.10it/s]\n"
     ]
    }
   ],
   "source": [
    "from tqdm import tqdm\n",
    "for _ in tqdm (range(0,50)):\n",
    "    time.sleep(0.1)\n",
    "    driver.execute_script(\"window.scrollBy(0,2000)\",\"\")\n",
    "    time.sleep(0.2)\n",
    "    driver.execute_script(\"window.scrollBy(0,-500)\",\"\")"
   ]
  },
  {
   "cell_type": "code",
   "execution_count": 11,
   "id": "d1e53f92",
   "metadata": {},
   "outputs": [
    {
     "data": {
      "text/plain": [
       "25"
      ]
     },
     "execution_count": 11,
     "metadata": {},
     "output_type": "execute_result"
    }
   ],
   "source": [
    "flights=driver.find_elements_by_xpath('//div[@class=\"flight-det table full-width clearfix\"]')\n",
    "len(flights)"
   ]
  },
  {
   "cell_type": "code",
   "execution_count": 12,
   "id": "cee3e837",
   "metadata": {},
   "outputs": [
    {
     "name": "stderr",
     "output_type": "stream",
     "text": [
      "100%|██████████████████████████████████████████████████████████████████████████████████| 25/25 [00:00<00:00, 29.87it/s]\n",
      "100%|██████████████████████████████████████████████████████████████████████████████████| 25/25 [00:00<00:00, 26.82it/s]\n",
      "100%|██████████████████████████████████████████████████████████████████████████████████| 25/25 [00:00<00:00, 30.53it/s]\n",
      "100%|██████████████████████████████████████████████████████████████████████████████████| 25/25 [00:00<00:00, 28.15it/s]\n",
      "100%|██████████████████████████████████████████████████████████████████████████████████| 25/25 [00:00<00:00, 27.32it/s]\n",
      "100%|██████████████████████████████████████████████████████████████████████████████████| 25/25 [00:00<00:00, 25.85it/s]\n",
      "100%|██████████████████████████████████████████████████████████████████████████████████| 25/25 [00:00<00:00, 26.77it/s]\n",
      "100%|██████████████████████████████████████████████████████████████████████████████████| 25/25 [00:01<00:00, 19.61it/s]\n",
      "100%|██████████████████████████████████████████████████████████████████████████████████████████| 25/25 [00:00<?, ?it/s]\n"
     ]
    }
   ],
   "source": [
    "# Extracting Airlines Name Via Xpath\n",
    "airlines = driver.find_elements_by_xpath(\"//div[@class='fs-13 airline-name no-pad col-8']/span\")\n",
    "for i in airlines:\n",
    "    Airlines.append(i.text.replace(\"\\n\",\" \"))\n",
    "else :\n",
    "    pass\n",
    "\n",
    "# Extracting Aeroplane model  via xpath\n",
    "aeroplanes = driver.find_elements_by_xpath('//p[@class=\"normal fs-11 font-lightestgrey no-wrap fl-no\"]/span')\n",
    "for i in tqdm(aeroplanes):\n",
    "    Aeroplane.append(i.text) \n",
    "else:\n",
    "    pass\n",
    "\n",
    "# Extracting Departure Time of Filght via Xpath\n",
    "dept_times = driver.find_elements_by_xpath('//div[@class=\"i-b pr\"]')\n",
    "for i in tqdm(dept_times):\n",
    "    Dept_time.append(i.text)\n",
    "else :\n",
    "    pass\n",
    "\n",
    "# Extracting Arrival Time via xpath\n",
    "arrival = driver.find_elements_by_xpath('//p[@class=\"bold fs-15 mb-2 pr time\"]')\n",
    "for i in tqdm(arrival):\n",
    "    Arrival_time.append(i.text)\n",
    "else :\n",
    "    pass\n",
    "\n",
    "# Extracting Source of flight via Xpath\n",
    "source = driver.find_elements_by_xpath(\"//div[@class='i-b col-4 no-wrap text-right dtime col-3']/p\")\n",
    "for i in tqdm(source):\n",
    "    Source.append(i.text)\n",
    "else :\n",
    "    pass\n",
    "\n",
    "# Extracting Destination of Flights via Xpath\n",
    "destination = driver.find_elements_by_xpath('//div[@class=\"i-b pdd-0 text-left atime col-5\"]/p[2]')\n",
    "for i in tqdm(destination):\n",
    "    Destination.append(i.text)\n",
    "else:\n",
    "    pass\n",
    "\n",
    "# Extracting Duration of Flights via Xpath\n",
    "duration = driver.find_elements_by_xpath('//div[@class=\"stop-cont pl-13\"]/p')\n",
    "for i in tqdm(duration):\n",
    "    Duration.append(i.text)\n",
    "else:\n",
    "    pass\n",
    "\n",
    "# Extracting stop details via Xpath\n",
    "stop = driver.find_elements_by_xpath(\"//div[@class='stop-cont pl-13']/div/span\")\n",
    "for i in tqdm(stop):\n",
    "    Stops.append(i.text)\n",
    "else:\n",
    "    pass\n",
    "\n",
    "# Extracting Price of Flights via Xpath\n",
    "count = 0\n",
    "price = driver.find_elements_by_xpath('//div[@class=\"i-b tipsy fare-summary-tooltip fs-18\"]')\n",
    "for i in tqdm(price):\n",
    "    Price.append(i.text.replace(',',''))\n",
    "    count = count +1\n",
    "else:\n",
    "    count = count +1\n",
    "    pass\n",
    "\n",
    "# Clicking on Flights details element\n",
    "Button = driver.find_elements_by_xpath('//div[@class=\"link-color fs-12 cursor-pointer\"]/span')\n",
    "driver.execute_script(\"arguments[0].click();\", WebDriverWait(driver, 20).until(EC.element_to_be_clickable((By.XPATH,'//div[@class=\"link-color fs-12 cursor-pointer\"]/span'))))\n",
    "time.sleep(1)\n",
    "\n",
    "# Extracting Date of Flights via Xpath\n",
    "date = driver.find_element_by_xpath('//div[@class=\"bold fs-12 mb-5\"]')\n",
    "a = date.text\n",
    "for i in tqdm(range(count-1)):\n",
    "    Date.append(a)\n",
    "else:\n",
    "    pass"
   ]
  },
  {
   "cell_type": "code",
   "execution_count": 13,
   "id": "bfdd8e70",
   "metadata": {},
   "outputs": [
    {
     "data": {
      "text/plain": [
       "(25, 25, 25, 25, 25, 25, 25, 25, 25, 25)"
      ]
     },
     "execution_count": 13,
     "metadata": {},
     "output_type": "execute_result"
    }
   ],
   "source": [
    "len(Aeroplane), len(Airlines), len(Dept_time), len(Arrival_time), len(Source), len(Destination), len(Duration), len(Stops),len(Price), len(Date)"
   ]
  },
  {
   "cell_type": "code",
   "execution_count": 14,
   "id": "7707afab",
   "metadata": {},
   "outputs": [],
   "source": [
    "url = \"https://flight.yatra.com/air-search-ui/dom2/trigger?ADT=1&CHD=0&INF=0&class=Economy&destination=BOM&destinationCountry=IN&flexi=0&flight_depart_date=08%2F08%2F2022&hb=0&noOfSegments=1&origin=DEL&originCountry=IN&type=O&unique=1642603609938&viewName=normal\"\n",
    "driver.get(url)\n",
    "time.sleep(2)"
   ]
  },
  {
   "cell_type": "code",
   "execution_count": 15,
   "id": "b2a038a9",
   "metadata": {},
   "outputs": [
    {
     "data": {
      "text/plain": [
       "25"
      ]
     },
     "execution_count": 15,
     "metadata": {},
     "output_type": "execute_result"
    }
   ],
   "source": [
    "flights=driver.find_elements_by_xpath('//div[@class=\"flight-det table full-width clearfix\"]')\n",
    "len(flights)"
   ]
  },
  {
   "cell_type": "code",
   "execution_count": 16,
   "id": "2718d2ce",
   "metadata": {},
   "outputs": [
    {
     "name": "stderr",
     "output_type": "stream",
     "text": [
      "100%|██████████████████████████████████████████████████████████████████████████████████| 25/25 [00:00<00:00, 29.10it/s]\n",
      "100%|██████████████████████████████████████████████████████████████████████████████████| 25/25 [00:00<00:00, 28.18it/s]\n",
      "100%|██████████████████████████████████████████████████████████████████████████████████| 25/25 [00:00<00:00, 29.98it/s]\n",
      "100%|██████████████████████████████████████████████████████████████████████████████████| 25/25 [00:00<00:00, 25.46it/s]\n",
      "100%|██████████████████████████████████████████████████████████████████████████████████| 25/25 [00:00<00:00, 28.03it/s]\n",
      "100%|██████████████████████████████████████████████████████████████████████████████████| 25/25 [00:00<00:00, 25.33it/s]\n",
      "100%|██████████████████████████████████████████████████████████████████████████████████| 25/25 [00:00<00:00, 26.15it/s]\n",
      "100%|██████████████████████████████████████████████████████████████████████████████████| 25/25 [00:01<00:00, 23.72it/s]\n",
      "100%|██████████████████████████████████████████████████████████████████████████████████████████| 25/25 [00:00<?, ?it/s]\n"
     ]
    }
   ],
   "source": [
    "# Extracting Airlines Name Via Xpath\n",
    "airlines = driver.find_elements_by_xpath(\"//div[@class='fs-13 airline-name no-pad col-8']/span\")\n",
    "for i in airlines:\n",
    "    Airlines.append(i.text.replace(\"\\n\",\" \"))\n",
    "else :\n",
    "    pass\n",
    "\n",
    "# Extracting Aeroplane model  via xpath\n",
    "aeroplanes = driver.find_elements_by_xpath('//p[@class=\"normal fs-11 font-lightestgrey no-wrap fl-no\"]/span')\n",
    "for i in tqdm(aeroplanes):\n",
    "    Aeroplane.append(i.text) \n",
    "else:\n",
    "    pass\n",
    "\n",
    "# Extracting Departure Time of Filght via Xpath\n",
    "dept_times = driver.find_elements_by_xpath('//div[@class=\"i-b pr\"]')\n",
    "for i in tqdm(dept_times):\n",
    "    Dept_time.append(i.text)\n",
    "else :\n",
    "    pass\n",
    "\n",
    "# Extracting Arrival Time via xpath\n",
    "arrival = driver.find_elements_by_xpath('//p[@class=\"bold fs-15 mb-2 pr time\"]')\n",
    "for i in tqdm(arrival):\n",
    "    Arrival_time.append(i.text)\n",
    "else :\n",
    "    pass\n",
    "\n",
    "# Extracting Source of flight via Xpath\n",
    "source = driver.find_elements_by_xpath(\"//div[@class='i-b col-4 no-wrap text-right dtime col-3']/p\")\n",
    "for i in tqdm(source):\n",
    "    Source.append(i.text)\n",
    "else :\n",
    "    pass\n",
    "\n",
    "# Extracting Destination of Flights via Xpath\n",
    "destination = driver.find_elements_by_xpath('//div[@class=\"i-b pdd-0 text-left atime col-5\"]/p[2]')\n",
    "for i in tqdm(destination):\n",
    "    Destination.append(i.text)\n",
    "else:\n",
    "    pass\n",
    "\n",
    "# Extracting Duration of Flights via Xpath\n",
    "duration = driver.find_elements_by_xpath('//div[@class=\"stop-cont pl-13\"]/p')\n",
    "for i in tqdm(duration):\n",
    "    Duration.append(i.text)\n",
    "else:\n",
    "    pass\n",
    "\n",
    "# Extracting stop details via Xpath\n",
    "stop = driver.find_elements_by_xpath(\"//div[@class='stop-cont pl-13']/div/span\")\n",
    "for i in tqdm(stop):\n",
    "    Stops.append(i.text)\n",
    "else:\n",
    "    pass\n",
    "\n",
    "# Extracting Price of Flights via Xpath\n",
    "count = 0\n",
    "price = driver.find_elements_by_xpath('//div[@class=\"i-b tipsy fare-summary-tooltip fs-18\"]')\n",
    "for i in tqdm(price):\n",
    "    Price.append(i.text.replace(',',''))\n",
    "    count = count +1\n",
    "else:\n",
    "    count = count +1\n",
    "    pass\n",
    "\n",
    "# Clicking on Flights details element\n",
    "Button = driver.find_elements_by_xpath('//div[@class=\"link-color fs-12 cursor-pointer\"]/span')\n",
    "driver.execute_script(\"arguments[0].click();\", WebDriverWait(driver, 20).until(EC.element_to_be_clickable((By.XPATH,'//div[@class=\"link-color fs-12 cursor-pointer\"]/span'))))\n",
    "time.sleep(0.25)\n",
    "\n",
    "# Extracting Date of Flights via Xpath\n",
    "date = driver.find_element_by_xpath('//div[@class=\"bold fs-12 mb-5\"]')\n",
    "a = date.text\n",
    "for i in tqdm(range(count-1)):\n",
    "    Date.append(a)\n",
    "else:\n",
    "    pass"
   ]
  },
  {
   "cell_type": "code",
   "execution_count": 17,
   "id": "9dc196c3",
   "metadata": {},
   "outputs": [
    {
     "data": {
      "text/plain": [
       "(50, 50, 50, 50, 50, 50, 50, 50, 50, 50)"
      ]
     },
     "execution_count": 17,
     "metadata": {},
     "output_type": "execute_result"
    }
   ],
   "source": [
    "len(Aeroplane), len(Airlines), len(Dept_time), len(Arrival_time), len(Source), len(Destination), len(Duration), len(Stops),len(Price), len(Date)"
   ]
  },
  {
   "cell_type": "code",
   "execution_count": 18,
   "id": "0a9efbcb",
   "metadata": {},
   "outputs": [],
   "source": [
    "url = \"https://flight.yatra.com/air-search-ui/dom2/trigger?ADT=1&CHD=0&INF=0&class=Economy&destination=BOM&destinationCountry=IN&flexi=0&flight_depart_date=09%2F08%2F2022&hb=0&noOfSegments=1&origin=DEL&originCountry=IN&type=O&unique=1642604185273&viewName=normal\"\n",
    "driver.get(url)\n",
    "time.sleep(2)"
   ]
  },
  {
   "cell_type": "code",
   "execution_count": 19,
   "id": "f1187c59",
   "metadata": {},
   "outputs": [
    {
     "data": {
      "text/plain": [
       "149"
      ]
     },
     "execution_count": 19,
     "metadata": {},
     "output_type": "execute_result"
    }
   ],
   "source": [
    "flights=driver.find_elements_by_xpath('//div[@class=\"flight-det table full-width clearfix\"]')\n",
    "len(flights)"
   ]
  },
  {
   "cell_type": "code",
   "execution_count": 20,
   "id": "b718a908",
   "metadata": {},
   "outputs": [
    {
     "name": "stderr",
     "output_type": "stream",
     "text": [
      "100%|████████████████████████████████████████████████████████████████████████████████| 149/149 [00:04<00:00, 29.92it/s]\n",
      "100%|████████████████████████████████████████████████████████████████████████████████| 149/149 [00:06<00:00, 24.50it/s]\n",
      "100%|████████████████████████████████████████████████████████████████████████████████| 149/149 [00:06<00:00, 21.96it/s]\n",
      "100%|████████████████████████████████████████████████████████████████████████████████| 149/149 [00:07<00:00, 20.58it/s]\n",
      "100%|████████████████████████████████████████████████████████████████████████████████| 149/149 [00:08<00:00, 17.85it/s]\n",
      "100%|████████████████████████████████████████████████████████████████████████████████| 149/149 [00:08<00:00, 17.59it/s]\n",
      "100%|████████████████████████████████████████████████████████████████████████████████| 149/149 [00:09<00:00, 16.53it/s]\n",
      "100%|████████████████████████████████████████████████████████████████████████████████| 149/149 [00:09<00:00, 14.96it/s]\n",
      "100%|████████████████████████████████████████████████████████████████████████████| 149/149 [00:00<00:00, 149331.25it/s]\n"
     ]
    }
   ],
   "source": [
    "# Extracting Airlines Name Via Xpath\n",
    "airlines = driver.find_elements_by_xpath(\"//div[@class='fs-13 airline-name no-pad col-8']/span\")\n",
    "for i in airlines:\n",
    "    Airlines.append(i.text.replace(\"\\n\",\" \"))\n",
    "else :\n",
    "    pass\n",
    "\n",
    "# Extracting Aeroplane model  via xpath\n",
    "aeroplanes = driver.find_elements_by_xpath('//p[@class=\"normal fs-11 font-lightestgrey no-wrap fl-no\"]/span')\n",
    "for i in tqdm(aeroplanes):\n",
    "    Aeroplane.append(i.text) \n",
    "else:\n",
    "    pass\n",
    "\n",
    "# Extracting Departure Time of Filght via Xpath\n",
    "dept_times = driver.find_elements_by_xpath('//div[@class=\"i-b pr\"]')\n",
    "for i in tqdm(dept_times):\n",
    "    Dept_time.append(i.text)\n",
    "else :\n",
    "    pass\n",
    "\n",
    "# Extracting Arrival Time via xpath\n",
    "arrival = driver.find_elements_by_xpath('//p[@class=\"bold fs-15 mb-2 pr time\"]')\n",
    "for i in tqdm(arrival):\n",
    "    Arrival_time.append(i.text)\n",
    "else :\n",
    "    pass\n",
    "\n",
    "# Extracting Source of flight via Xpath\n",
    "source = driver.find_elements_by_xpath(\"//div[@class='i-b col-4 no-wrap text-right dtime col-3']/p\")\n",
    "for i in tqdm(source):\n",
    "    Source.append(i.text)\n",
    "else :\n",
    "    pass\n",
    "\n",
    "# Extracting Destination of Flights via Xpath\n",
    "destination = driver.find_elements_by_xpath('//div[@class=\"i-b pdd-0 text-left atime col-5\"]/p[2]')\n",
    "for i in tqdm(destination):\n",
    "    Destination.append(i.text)\n",
    "else:\n",
    "    pass\n",
    "\n",
    "# Extracting Duration of Flights via Xpath\n",
    "duration = driver.find_elements_by_xpath('//div[@class=\"stop-cont pl-13\"]/p')\n",
    "for i in tqdm(duration):\n",
    "    Duration.append(i.text)\n",
    "else:\n",
    "    pass\n",
    "\n",
    "# Extracting stop details via Xpath\n",
    "stop = driver.find_elements_by_xpath(\"//div[@class='stop-cont pl-13']/div/span\")\n",
    "for i in tqdm(stop):\n",
    "    Stops.append(i.text)\n",
    "else:\n",
    "    pass\n",
    "\n",
    "# Extracting Price of Flights via Xpath\n",
    "count = 0\n",
    "price = driver.find_elements_by_xpath('//div[@class=\"i-b tipsy fare-summary-tooltip fs-18\"]')\n",
    "for i in tqdm(price):\n",
    "    Price.append(i.text.replace(',',''))\n",
    "    count = count +1\n",
    "else:\n",
    "    count = count +1\n",
    "    pass\n",
    "\n",
    "# Clicking on Flights details element\n",
    "Button = driver.find_elements_by_xpath('//div[@class=\"link-color fs-12 cursor-pointer\"]/span')\n",
    "driver.execute_script(\"arguments[0].click();\", WebDriverWait(driver, 20).until(EC.element_to_be_clickable((By.XPATH,'//div[@class=\"link-color fs-12 cursor-pointer\"]/span'))))\n",
    "time.sleep(0.25)\n",
    "\n",
    "# Extracting Date of Flights via Xpath\n",
    "date = driver.find_element_by_xpath('//div[@class=\"bold fs-12 mb-5\"]')\n",
    "a = date.text\n",
    "for i in tqdm(range(count-1)):\n",
    "    Date.append(a)\n",
    "else:\n",
    "    pass"
   ]
  },
  {
   "cell_type": "code",
   "execution_count": 23,
   "id": "96653680",
   "metadata": {},
   "outputs": [
    {
     "data": {
      "text/plain": [
       "(199, 199, 199, 199, 199, 199, 199, 199, 199, 199)"
      ]
     },
     "execution_count": 23,
     "metadata": {},
     "output_type": "execute_result"
    }
   ],
   "source": [
    "len(Aeroplane), len(Airlines), len(Dept_time), len(Arrival_time), len(Source), len(Destination), len(Duration), len(Stops),len(Price), len(Date)"
   ]
  },
  {
   "cell_type": "code",
   "execution_count": 24,
   "id": "5d9fac6a",
   "metadata": {},
   "outputs": [],
   "source": [
    "url = \"https://flight.yatra.com/air-search-ui/dom2/trigger?ADT=1&CHD=0&INF=0&class=Economy&destination=BOM&destinationCountry=IN&flexi=0&flight_depart_date=10%2F08%2F2022&hb=0&noOfSegments=1&origin=DEL&originCountry=IN&type=O&unique=1642604185273&viewName=normal\"\n",
    "driver.get(url)\n",
    "time.sleep(2)"
   ]
  },
  {
   "cell_type": "code",
   "execution_count": 25,
   "id": "de237366",
   "metadata": {},
   "outputs": [
    {
     "name": "stderr",
     "output_type": "stream",
     "text": [
      "100%|██████████████████████████████████████████████████████████████████████████████████| 75/75 [00:26<00:00,  2.88it/s]\n"
     ]
    }
   ],
   "source": [
    "from tqdm import tqdm\n",
    "for _ in tqdm (range(0,75)):\n",
    "    time.sleep(0.1)\n",
    "    driver.execute_script(\"window.scrollBy(0,1500)\",\"\")\n",
    "    time.sleep(0.2)\n",
    "    driver.execute_script(\"window.scrollBy(0,-500)\",\"\")"
   ]
  },
  {
   "cell_type": "code",
   "execution_count": 26,
   "id": "13138814",
   "metadata": {},
   "outputs": [
    {
     "data": {
      "text/plain": [
       "135"
      ]
     },
     "execution_count": 26,
     "metadata": {},
     "output_type": "execute_result"
    }
   ],
   "source": [
    "flights=driver.find_elements_by_xpath('//div[@class=\"flight-det table full-width clearfix\"]')\n",
    "len(flights)"
   ]
  },
  {
   "cell_type": "code",
   "execution_count": 27,
   "id": "17c66d82",
   "metadata": {},
   "outputs": [
    {
     "name": "stderr",
     "output_type": "stream",
     "text": [
      "100%|████████████████████████████████████████████████████████████████████████████████| 135/135 [00:05<00:00, 25.51it/s]\n",
      "100%|████████████████████████████████████████████████████████████████████████████████| 135/135 [00:05<00:00, 26.27it/s]\n",
      "100%|████████████████████████████████████████████████████████████████████████████████| 135/135 [00:05<00:00, 23.24it/s]\n",
      "100%|████████████████████████████████████████████████████████████████████████████████| 135/135 [00:06<00:00, 22.12it/s]\n",
      "100%|████████████████████████████████████████████████████████████████████████████████| 135/135 [00:06<00:00, 20.30it/s]\n",
      "100%|████████████████████████████████████████████████████████████████████████████████| 135/135 [00:07<00:00, 17.52it/s]\n",
      "100%|████████████████████████████████████████████████████████████████████████████████| 135/135 [00:08<00:00, 16.26it/s]\n",
      "100%|████████████████████████████████████████████████████████████████████████████████| 135/135 [00:09<00:00, 13.63it/s]\n",
      "100%|████████████████████████████████████████████████████████████████████████████| 135/135 [00:00<00:00, 134720.69it/s]\n"
     ]
    }
   ],
   "source": [
    "# Extracting Airlines Name Via Xpath\n",
    "airlines = driver.find_elements_by_xpath(\"//div[@class='fs-13 airline-name no-pad col-8']/span\")\n",
    "for i in airlines:\n",
    "    Airlines.append(i.text.replace(\"\\n\",\" \"))\n",
    "else :\n",
    "    pass\n",
    "\n",
    "# Extracting Aeroplane model  via xpath\n",
    "aeroplanes = driver.find_elements_by_xpath('//p[@class=\"normal fs-11 font-lightestgrey no-wrap fl-no\"]/span')\n",
    "for i in tqdm(aeroplanes):\n",
    "    Aeroplane.append(i.text) \n",
    "else:\n",
    "    pass\n",
    "\n",
    "# Extracting Departure Time of Filght via Xpath\n",
    "dept_times = driver.find_elements_by_xpath('//div[@class=\"i-b pr\"]')\n",
    "for i in tqdm(dept_times):\n",
    "    Dept_time.append(i.text)\n",
    "else :\n",
    "    pass\n",
    "\n",
    "# Extracting Arrival Time via xpath\n",
    "arrival = driver.find_elements_by_xpath('//p[@class=\"bold fs-15 mb-2 pr time\"]')\n",
    "for i in tqdm(arrival):\n",
    "    Arrival_time.append(i.text)\n",
    "else :\n",
    "    pass\n",
    "\n",
    "# Extracting Source of flight via Xpath\n",
    "source = driver.find_elements_by_xpath(\"//div[@class='i-b col-4 no-wrap text-right dtime col-3']/p\")\n",
    "for i in tqdm(source):\n",
    "    Source.append(i.text)\n",
    "else :\n",
    "    pass\n",
    "\n",
    "# Extracting Destination of Flights via Xpath\n",
    "destination = driver.find_elements_by_xpath('//div[@class=\"i-b pdd-0 text-left atime col-5\"]/p[2]')\n",
    "for i in tqdm(destination):\n",
    "    Destination.append(i.text)\n",
    "else:\n",
    "    pass\n",
    "\n",
    "# Extracting Duration of Flights via Xpath\n",
    "duration = driver.find_elements_by_xpath('//div[@class=\"stop-cont pl-13\"]/p')\n",
    "for i in tqdm(duration):\n",
    "    Duration.append(i.text)\n",
    "else:\n",
    "    pass\n",
    "\n",
    "# Extracting stop details via Xpath\n",
    "stop = driver.find_elements_by_xpath(\"//div[@class='stop-cont pl-13']/div/span\")\n",
    "for i in tqdm(stop):\n",
    "    Stops.append(i.text)\n",
    "else:\n",
    "    pass\n",
    "\n",
    "# Extracting Price of Flights via Xpath\n",
    "count = 0\n",
    "price = driver.find_elements_by_xpath('//div[@class=\"i-b tipsy fare-summary-tooltip fs-18\"]')\n",
    "for i in tqdm(price):\n",
    "    Price.append(i.text.replace(',',''))\n",
    "    count = count +1\n",
    "else:\n",
    "    count = count +1\n",
    "    pass\n",
    "\n",
    "# Clicking on Flights details element\n",
    "Button = driver.find_elements_by_xpath('//div[@class=\"link-color fs-12 cursor-pointer\"]/span')\n",
    "driver.execute_script(\"arguments[0].click();\", WebDriverWait(driver, 20).until(EC.element_to_be_clickable((By.XPATH,'//div[@class=\"link-color fs-12 cursor-pointer\"]/span'))))\n",
    "time.sleep(0.25)\n",
    "\n",
    "# Extracting Date of Flights via Xpath\n",
    "date = driver.find_element_by_xpath('//div[@class=\"bold fs-12 mb-5\"]')\n",
    "a = date.text\n",
    "for i in tqdm(range(count-1)):\n",
    "    Date.append(a)\n",
    "else:\n",
    "    pass"
   ]
  },
  {
   "cell_type": "code",
   "execution_count": 28,
   "id": "8f4e7d42",
   "metadata": {},
   "outputs": [
    {
     "data": {
      "text/plain": [
       "(334, 334, 334, 334, 334, 334, 334, 334, 334, 334)"
      ]
     },
     "execution_count": 28,
     "metadata": {},
     "output_type": "execute_result"
    }
   ],
   "source": [
    "len(Aeroplane), len(Airlines), len(Dept_time), len(Arrival_time), len(Source), len(Destination), len(Duration), len(Stops),len(Price), len(Date)"
   ]
  },
  {
   "cell_type": "code",
   "execution_count": 29,
   "id": "6ed8f2e7",
   "metadata": {},
   "outputs": [],
   "source": [
    "url = \"https://flight.yatra.com/air-search-ui/dom2/trigger?ADT=1&CHD=0&INF=0&class=Economy&destination=BOM&destinationCountry=IN&flexi=0&flight_depart_date=11%2F08%2F2022&hb=0&noOfSegments=1&origin=DEL&originCountry=IN&type=O&unique=1642604185273&viewName=normal\"\n",
    "driver.get(url)\n",
    "time.sleep(2)"
   ]
  },
  {
   "cell_type": "code",
   "execution_count": 34,
   "id": "d34b48af",
   "metadata": {},
   "outputs": [
    {
     "name": "stderr",
     "output_type": "stream",
     "text": [
      "100%|██████████████████████████████████████████████████████████████████████████████████| 75/75 [00:54<00:00,  1.37it/s]\n"
     ]
    }
   ],
   "source": [
    "from tqdm import tqdm\n",
    "for _ in tqdm (range(0,75)):\n",
    "    time.sleep(0.1)\n",
    "    driver.execute_script(\"window.scrollBy(0,3000)\",\"\")\n",
    "    time.sleep(0.2)\n",
    "    driver.execute_script(\"window.scrollBy(0,-500)\",\"\")"
   ]
  },
  {
   "cell_type": "code",
   "execution_count": 35,
   "id": "eb777fe6",
   "metadata": {},
   "outputs": [
    {
     "data": {
      "text/plain": [
       "165"
      ]
     },
     "execution_count": 35,
     "metadata": {},
     "output_type": "execute_result"
    }
   ],
   "source": [
    "flights=driver.find_elements_by_xpath('//div[@class=\"flight-det table full-width clearfix\"]')\n",
    "len(flights)"
   ]
  },
  {
   "cell_type": "code",
   "execution_count": 36,
   "id": "afc56459",
   "metadata": {},
   "outputs": [
    {
     "name": "stderr",
     "output_type": "stream",
     "text": [
      "100%|████████████████████████████████████████████████████████████████████████████████| 165/165 [00:05<00:00, 29.42it/s]\n",
      "100%|████████████████████████████████████████████████████████████████████████████████| 165/165 [00:06<00:00, 23.87it/s]\n",
      "100%|████████████████████████████████████████████████████████████████████████████████| 165/165 [00:07<00:00, 22.05it/s]\n",
      "100%|████████████████████████████████████████████████████████████████████████████████| 165/165 [00:08<00:00, 19.71it/s]\n",
      "100%|████████████████████████████████████████████████████████████████████████████████| 165/165 [00:09<00:00, 17.21it/s]\n",
      "100%|████████████████████████████████████████████████████████████████████████████████| 165/165 [00:09<00:00, 16.82it/s]\n",
      "100%|████████████████████████████████████████████████████████████████████████████████| 165/165 [00:10<00:00, 15.77it/s]\n",
      "100%|████████████████████████████████████████████████████████████████████████████████| 165/165 [00:11<00:00, 13.87it/s]\n",
      "100%|████████████████████████████████████████████████████████████████████████████████████████| 165/165 [00:00<?, ?it/s]\n"
     ]
    }
   ],
   "source": [
    "# Extracting Airlines Name Via Xpath\n",
    "airlines = driver.find_elements_by_xpath(\"//div[@class='fs-13 airline-name no-pad col-8']/span\")\n",
    "for i in airlines:\n",
    "    Airlines.append(i.text.replace(\"\\n\",\" \"))\n",
    "else :\n",
    "    pass\n",
    "\n",
    "# Extracting Aeroplane model  via xpath\n",
    "aeroplanes = driver.find_elements_by_xpath('//p[@class=\"normal fs-11 font-lightestgrey no-wrap fl-no\"]/span')\n",
    "for i in tqdm(aeroplanes):\n",
    "    Aeroplane.append(i.text) \n",
    "else:\n",
    "    pass\n",
    "\n",
    "# Extracting Departure Time of Filght via Xpath\n",
    "dept_times = driver.find_elements_by_xpath('//div[@class=\"i-b pr\"]')\n",
    "for i in tqdm(dept_times):\n",
    "    Dept_time.append(i.text)\n",
    "else :\n",
    "    pass\n",
    "\n",
    "# Extracting Arrival Time via xpath\n",
    "arrival = driver.find_elements_by_xpath('//p[@class=\"bold fs-15 mb-2 pr time\"]')\n",
    "for i in tqdm(arrival):\n",
    "    Arrival_time.append(i.text)\n",
    "else :\n",
    "    pass\n",
    "\n",
    "# Extracting Source of flight via Xpath\n",
    "source = driver.find_elements_by_xpath(\"//div[@class='i-b col-4 no-wrap text-right dtime col-3']/p\")\n",
    "for i in tqdm(source):\n",
    "    Source.append(i.text)\n",
    "else :\n",
    "    pass\n",
    "\n",
    "# Extracting Destination of Flights via Xpath\n",
    "destination = driver.find_elements_by_xpath('//div[@class=\"i-b pdd-0 text-left atime col-5\"]/p[2]')\n",
    "for i in tqdm(destination):\n",
    "    Destination.append(i.text)\n",
    "else:\n",
    "    pass\n",
    "\n",
    "# Extracting Duration of Flights via Xpath\n",
    "duration = driver.find_elements_by_xpath('//div[@class=\"stop-cont pl-13\"]/p')\n",
    "for i in tqdm(duration):\n",
    "    Duration.append(i.text)\n",
    "else:\n",
    "    pass\n",
    "\n",
    "# Extracting stop details via Xpath\n",
    "stop = driver.find_elements_by_xpath(\"//div[@class='stop-cont pl-13']/div/span\")\n",
    "for i in tqdm(stop):\n",
    "    Stops.append(i.text)\n",
    "else:\n",
    "    pass\n",
    "\n",
    "# Extracting Price of Flights via Xpath\n",
    "count = 0\n",
    "price = driver.find_elements_by_xpath('//div[@class=\"i-b tipsy fare-summary-tooltip fs-18\"]')\n",
    "for i in tqdm(price):\n",
    "    Price.append(i.text.replace(',',''))\n",
    "    count = count +1\n",
    "else:\n",
    "    count = count +1\n",
    "    pass\n",
    "\n",
    "# Clicking on Flights details element\n",
    "Button = driver.find_elements_by_xpath('//div[@class=\"link-color fs-12 cursor-pointer\"]/span')\n",
    "driver.execute_script(\"arguments[0].click();\", WebDriverWait(driver, 20).until(EC.element_to_be_clickable((By.XPATH,'//div[@class=\"link-color fs-12 cursor-pointer\"]/span'))))\n",
    "time.sleep(0.25)\n",
    "\n",
    "# Extracting Date of Flights via Xpath\n",
    "date = driver.find_element_by_xpath('//div[@class=\"bold fs-12 mb-5\"]')\n",
    "a = date.text\n",
    "for i in tqdm(range(count-1)):\n",
    "    Date.append(a)\n",
    "else:\n",
    "    pass"
   ]
  },
  {
   "cell_type": "code",
   "execution_count": 37,
   "id": "76d62de5",
   "metadata": {},
   "outputs": [
    {
     "data": {
      "text/plain": [
       "(499, 499, 499, 499, 499, 499, 499, 499, 499, 499)"
      ]
     },
     "execution_count": 37,
     "metadata": {},
     "output_type": "execute_result"
    }
   ],
   "source": [
    "len(Aeroplane), len(Airlines), len(Dept_time), len(Arrival_time), len(Source), len(Destination), len(Duration), len(Stops),len(Price), len(Date)"
   ]
  },
  {
   "cell_type": "code",
   "execution_count": 41,
   "id": "4bc77242",
   "metadata": {},
   "outputs": [],
   "source": [
    "url = \"https://flight.yatra.com/air-search-ui/dom2/trigger?ADT=1&CHD=0&INF=0&class=Economy&destination=BOM&destinationCountry=IN&flexi=0&flight_depart_date=12%2F08%2F2022&hb=0&noOfSegments=1&origin=DEL&originCountry=IN&type=O&unique=1642604185273&viewName=normal\"\n",
    "driver.get(url)\n",
    "time.sleep(2)"
   ]
  },
  {
   "cell_type": "code",
   "execution_count": 42,
   "id": "165b356a",
   "metadata": {},
   "outputs": [
    {
     "name": "stderr",
     "output_type": "stream",
     "text": [
      "100%|██████████████████████████████████████████████████████████████████████████████████| 75/75 [00:26<00:00,  2.83it/s]\n"
     ]
    }
   ],
   "source": [
    "from tqdm import tqdm\n",
    "for _ in tqdm (range(0,75)):\n",
    "    time.sleep(0.1)\n",
    "    driver.execute_script(\"window.scrollBy(0,2000)\",\"\")\n",
    "    time.sleep(0.2)\n",
    "    driver.execute_script(\"window.scrollBy(0,-500)\",\"\")"
   ]
  },
  {
   "cell_type": "code",
   "execution_count": 43,
   "id": "686b98f9",
   "metadata": {},
   "outputs": [
    {
     "data": {
      "text/plain": [
       "135"
      ]
     },
     "execution_count": 43,
     "metadata": {},
     "output_type": "execute_result"
    }
   ],
   "source": [
    "flights=driver.find_elements_by_xpath('//div[@class=\"flight-det table full-width clearfix\"]')\n",
    "len(flights)"
   ]
  },
  {
   "cell_type": "code",
   "execution_count": 44,
   "id": "ebc525fe",
   "metadata": {},
   "outputs": [
    {
     "name": "stderr",
     "output_type": "stream",
     "text": [
      "100%|████████████████████████████████████████████████████████████████████████████████| 135/135 [00:04<00:00, 29.21it/s]\n",
      "100%|████████████████████████████████████████████████████████████████████████████████| 135/135 [00:05<00:00, 25.91it/s]\n",
      "100%|████████████████████████████████████████████████████████████████████████████████| 135/135 [00:05<00:00, 23.81it/s]\n",
      "100%|████████████████████████████████████████████████████████████████████████████████| 135/135 [00:06<00:00, 22.09it/s]\n",
      "100%|████████████████████████████████████████████████████████████████████████████████| 135/135 [00:06<00:00, 19.44it/s]\n",
      "100%|████████████████████████████████████████████████████████████████████████████████| 135/135 [00:07<00:00, 18.41it/s]\n",
      "100%|████████████████████████████████████████████████████████████████████████████████| 135/135 [00:07<00:00, 17.04it/s]\n",
      "100%|████████████████████████████████████████████████████████████████████████████████| 135/135 [00:08<00:00, 15.88it/s]\n",
      "100%|████████████████████████████████████████████████████████████████████████████████████████| 135/135 [00:00<?, ?it/s]\n"
     ]
    }
   ],
   "source": [
    "# Extracting Airlines Name Via Xpath\n",
    "airlines = driver.find_elements_by_xpath(\"//div[@class='fs-13 airline-name no-pad col-8']/span\")\n",
    "for i in airlines:\n",
    "    Airlines.append(i.text.replace(\"\\n\",\" \"))\n",
    "else :\n",
    "    pass\n",
    "\n",
    "# Extracting Aeroplane model  via xpath\n",
    "aeroplanes = driver.find_elements_by_xpath('//p[@class=\"normal fs-11 font-lightestgrey no-wrap fl-no\"]/span')\n",
    "for i in tqdm(aeroplanes):\n",
    "    Aeroplane.append(i.text) \n",
    "else:\n",
    "    pass\n",
    "\n",
    "# Extracting Departure Time of Filght via Xpath\n",
    "dept_times = driver.find_elements_by_xpath('//div[@class=\"i-b pr\"]')\n",
    "for i in tqdm(dept_times):\n",
    "    Dept_time.append(i.text)\n",
    "else :\n",
    "    pass\n",
    "\n",
    "# Extracting Arrival Time via xpath\n",
    "arrival = driver.find_elements_by_xpath('//p[@class=\"bold fs-15 mb-2 pr time\"]')\n",
    "for i in tqdm(arrival):\n",
    "    Arrival_time.append(i.text)\n",
    "else :\n",
    "    pass\n",
    "\n",
    "# Extracting Source of flight via Xpath\n",
    "source = driver.find_elements_by_xpath(\"//div[@class='i-b col-4 no-wrap text-right dtime col-3']/p\")\n",
    "for i in tqdm(source):\n",
    "    Source.append(i.text)\n",
    "else :\n",
    "    pass\n",
    "\n",
    "# Extracting Destination of Flights via Xpath\n",
    "destination = driver.find_elements_by_xpath('//div[@class=\"i-b pdd-0 text-left atime col-5\"]/p[2]')\n",
    "for i in tqdm(destination):\n",
    "    Destination.append(i.text)\n",
    "else:\n",
    "    pass\n",
    "\n",
    "# Extracting Duration of Flights via Xpath\n",
    "duration = driver.find_elements_by_xpath('//div[@class=\"stop-cont pl-13\"]/p')\n",
    "for i in tqdm(duration):\n",
    "    Duration.append(i.text)\n",
    "else:\n",
    "    pass\n",
    "\n",
    "# Extracting stop details via Xpath\n",
    "stop = driver.find_elements_by_xpath(\"//div[@class='stop-cont pl-13']/div/span\")\n",
    "for i in tqdm(stop):\n",
    "    Stops.append(i.text)\n",
    "else:\n",
    "    pass\n",
    "\n",
    "# Extracting Price of Flights via Xpath\n",
    "count = 0\n",
    "price = driver.find_elements_by_xpath('//div[@class=\"i-b tipsy fare-summary-tooltip fs-18\"]')\n",
    "for i in tqdm(price):\n",
    "    Price.append(i.text.replace(',',''))\n",
    "    count = count +1\n",
    "else:\n",
    "    count = count +1\n",
    "    pass\n",
    "\n",
    "# Clicking on Flights details element\n",
    "Button = driver.find_elements_by_xpath('//div[@class=\"link-color fs-12 cursor-pointer\"]/span')\n",
    "driver.execute_script(\"arguments[0].click();\", WebDriverWait(driver, 20).until(EC.element_to_be_clickable((By.XPATH,'//div[@class=\"link-color fs-12 cursor-pointer\"]/span'))))\n",
    "time.sleep(0.25)\n",
    "\n",
    "# Extracting Date of Flights via Xpath\n",
    "date = driver.find_element_by_xpath('//div[@class=\"bold fs-12 mb-5\"]')\n",
    "a = date.text\n",
    "for i in tqdm(range(count-1)):\n",
    "    Date.append(a)\n",
    "else:\n",
    "    pass"
   ]
  },
  {
   "cell_type": "code",
   "execution_count": 45,
   "id": "2073cfc3",
   "metadata": {},
   "outputs": [
    {
     "data": {
      "text/plain": [
       "(634, 634, 634, 634, 634, 634, 634, 634, 634, 634)"
      ]
     },
     "execution_count": 45,
     "metadata": {},
     "output_type": "execute_result"
    }
   ],
   "source": [
    "len(Aeroplane), len(Airlines), len(Dept_time), len(Arrival_time), len(Source), len(Destination), len(Duration), len(Stops),len(Price), len(Date)"
   ]
  },
  {
   "cell_type": "code",
   "execution_count": 46,
   "id": "942da5ba",
   "metadata": {},
   "outputs": [],
   "source": [
    "url = \"https://flight.yatra.com/air-search-ui/dom2/trigger?ADT=1&CHD=0&INF=0&class=Economy&destination=BOM&destinationCountry=IN&flexi=0&flight_depart_date=13%2F08%2F2022&hb=0&noOfSegments=1&origin=DEL&originCountry=IN&type=O&unique=1642604185273&viewName=normal\"\n",
    "driver.get(url)\n",
    "time.sleep(2)"
   ]
  },
  {
   "cell_type": "code",
   "execution_count": 47,
   "id": "483e3143",
   "metadata": {},
   "outputs": [
    {
     "name": "stderr",
     "output_type": "stream",
     "text": [
      "100%|██████████████████████████████████████████████████████████████████████████████████| 75/75 [00:30<00:00,  2.50it/s]\n"
     ]
    }
   ],
   "source": [
    "from tqdm import tqdm\n",
    "for _ in tqdm (range(0,75)):\n",
    "    time.sleep(0.1)\n",
    "    driver.execute_script(\"window.scrollBy(0,2000)\",\"\")\n",
    "    time.sleep(0.2)\n",
    "    driver.execute_script(\"window.scrollBy(0,-500)\",\"\")"
   ]
  },
  {
   "cell_type": "code",
   "execution_count": 48,
   "id": "81c5e674",
   "metadata": {},
   "outputs": [
    {
     "data": {
      "text/plain": [
       "155"
      ]
     },
     "execution_count": 48,
     "metadata": {},
     "output_type": "execute_result"
    }
   ],
   "source": [
    "flights=driver.find_elements_by_xpath('//div[@class=\"flight-det table full-width clearfix\"]')\n",
    "len(flights)"
   ]
  },
  {
   "cell_type": "code",
   "execution_count": 49,
   "id": "4ca38fbf",
   "metadata": {},
   "outputs": [
    {
     "name": "stderr",
     "output_type": "stream",
     "text": [
      "100%|████████████████████████████████████████████████████████████████████████████████| 155/155 [00:05<00:00, 27.77it/s]\n",
      "100%|████████████████████████████████████████████████████████████████████████████████| 155/155 [00:06<00:00, 24.06it/s]\n",
      "100%|████████████████████████████████████████████████████████████████████████████████| 155/155 [00:08<00:00, 17.98it/s]\n",
      "100%|████████████████████████████████████████████████████████████████████████████████| 155/155 [00:09<00:00, 15.82it/s]\n",
      "100%|████████████████████████████████████████████████████████████████████████████████| 155/155 [00:09<00:00, 16.11it/s]\n",
      "100%|████████████████████████████████████████████████████████████████████████████████| 155/155 [00:11<00:00, 13.88it/s]\n",
      "100%|████████████████████████████████████████████████████████████████████████████████| 155/155 [00:10<00:00, 15.16it/s]\n",
      "100%|████████████████████████████████████████████████████████████████████████████████| 155/155 [00:12<00:00, 12.03it/s]\n",
      "100%|████████████████████████████████████████████████████████████████████████████| 155/155 [00:00<00:00, 154642.51it/s]\n"
     ]
    }
   ],
   "source": [
    "# Extracting Airlines Name Via Xpath\n",
    "airlines = driver.find_elements_by_xpath(\"//div[@class='fs-13 airline-name no-pad col-8']/span\")\n",
    "for i in airlines:\n",
    "    Airlines.append(i.text.replace(\"\\n\",\" \"))\n",
    "else :\n",
    "    pass\n",
    "\n",
    "# Extracting Aeroplane model  via xpath\n",
    "aeroplanes = driver.find_elements_by_xpath('//p[@class=\"normal fs-11 font-lightestgrey no-wrap fl-no\"]/span')\n",
    "for i in tqdm(aeroplanes):\n",
    "    Aeroplane.append(i.text) \n",
    "else:\n",
    "    pass\n",
    "\n",
    "# Extracting Departure Time of Filght via Xpath\n",
    "dept_times = driver.find_elements_by_xpath('//div[@class=\"i-b pr\"]')\n",
    "for i in tqdm(dept_times):\n",
    "    Dept_time.append(i.text)\n",
    "else :\n",
    "    pass\n",
    "\n",
    "# Extracting Arrival Time via xpath\n",
    "arrival = driver.find_elements_by_xpath('//p[@class=\"bold fs-15 mb-2 pr time\"]')\n",
    "for i in tqdm(arrival):\n",
    "    Arrival_time.append(i.text)\n",
    "else :\n",
    "    pass\n",
    "\n",
    "# Extracting Source of flight via Xpath\n",
    "source = driver.find_elements_by_xpath(\"//div[@class='i-b col-4 no-wrap text-right dtime col-3']/p\")\n",
    "for i in tqdm(source):\n",
    "    Source.append(i.text)\n",
    "else :\n",
    "    pass\n",
    "\n",
    "# Extracting Destination of Flights via Xpath\n",
    "destination = driver.find_elements_by_xpath('//div[@class=\"i-b pdd-0 text-left atime col-5\"]/p[2]')\n",
    "for i in tqdm(destination):\n",
    "    Destination.append(i.text)\n",
    "else:\n",
    "    pass\n",
    "\n",
    "# Extracting Duration of Flights via Xpath\n",
    "duration = driver.find_elements_by_xpath('//div[@class=\"stop-cont pl-13\"]/p')\n",
    "for i in tqdm(duration):\n",
    "    Duration.append(i.text)\n",
    "else:\n",
    "    pass\n",
    "\n",
    "# Extracting stop details via Xpath\n",
    "stop = driver.find_elements_by_xpath(\"//div[@class='stop-cont pl-13']/div/span\")\n",
    "for i in tqdm(stop):\n",
    "    Stops.append(i.text)\n",
    "else:\n",
    "    pass\n",
    "\n",
    "# Extracting Price of Flights via Xpath\n",
    "count = 0\n",
    "price = driver.find_elements_by_xpath('//div[@class=\"i-b tipsy fare-summary-tooltip fs-18\"]')\n",
    "for i in tqdm(price):\n",
    "    Price.append(i.text.replace(',',''))\n",
    "    count = count +1\n",
    "else:\n",
    "    count = count +1\n",
    "    pass\n",
    "\n",
    "# Clicking on Flights details element\n",
    "Button = driver.find_elements_by_xpath('//div[@class=\"link-color fs-12 cursor-pointer\"]/span')\n",
    "driver.execute_script(\"arguments[0].click();\", WebDriverWait(driver, 20).until(EC.element_to_be_clickable((By.XPATH,'//div[@class=\"link-color fs-12 cursor-pointer\"]/span'))))\n",
    "time.sleep(0.25)\n",
    "\n",
    "# Extracting Date of Flights via Xpath\n",
    "date = driver.find_element_by_xpath('//div[@class=\"bold fs-12 mb-5\"]')\n",
    "a = date.text\n",
    "for i in tqdm(range(count-1)):\n",
    "    Date.append(a)\n",
    "else:\n",
    "    pass"
   ]
  },
  {
   "cell_type": "code",
   "execution_count": 51,
   "id": "83a8513e",
   "metadata": {},
   "outputs": [
    {
     "data": {
      "text/plain": [
       "(789, 789, 789, 789, 789, 789, 789, 789, 789, 789)"
      ]
     },
     "execution_count": 51,
     "metadata": {},
     "output_type": "execute_result"
    }
   ],
   "source": [
    "len(Aeroplane), len(Airlines), len(Dept_time), len(Arrival_time), len(Source), len(Destination), len(Duration), len(Stops),len(Price), len(Date)"
   ]
  },
  {
   "cell_type": "code",
   "execution_count": 55,
   "id": "b9ba6073",
   "metadata": {},
   "outputs": [],
   "source": [
    "url = \"https://flight.yatra.com/air-search-ui/dom2/trigger?ADT=1&CHD=0&INF=0&class=Economy&destination=BOM&destinationCountry=IN&flexi=0&flight_depart_date=14%2F08%2F2022&hb=0&noOfSegments=1&origin=DEL&originCountry=IN&type=O&unique=1642604185273&viewName=normal\"\n",
    "driver.get(url)\n",
    "time.sleep(2)"
   ]
  },
  {
   "cell_type": "code",
   "execution_count": 56,
   "id": "b6584975",
   "metadata": {},
   "outputs": [
    {
     "name": "stderr",
     "output_type": "stream",
     "text": [
      "100%|██████████████████████████████████████████████████████████████████████████████████| 75/75 [00:26<00:00,  2.83it/s]\n"
     ]
    }
   ],
   "source": [
    "from tqdm import tqdm\n",
    "for _ in tqdm (range(0,75)):\n",
    "    time.sleep(0.1)\n",
    "    driver.execute_script(\"window.scrollBy(0,2000)\",\"\")\n",
    "    time.sleep(0.2)\n",
    "    driver.execute_script(\"window.scrollBy(0,-500)\",\"\")"
   ]
  },
  {
   "cell_type": "code",
   "execution_count": 57,
   "id": "2c782845",
   "metadata": {},
   "outputs": [
    {
     "data": {
      "text/plain": [
       "135"
      ]
     },
     "execution_count": 57,
     "metadata": {},
     "output_type": "execute_result"
    }
   ],
   "source": [
    "flights=driver.find_elements_by_xpath('//div[@class=\"flight-det table full-width clearfix\"]')\n",
    "len(flights)"
   ]
  },
  {
   "cell_type": "code",
   "execution_count": 58,
   "id": "d9e8e330",
   "metadata": {},
   "outputs": [
    {
     "name": "stderr",
     "output_type": "stream",
     "text": [
      "100%|████████████████████████████████████████████████████████████████████████████████| 135/135 [00:06<00:00, 21.97it/s]\n",
      "100%|████████████████████████████████████████████████████████████████████████████████| 135/135 [00:06<00:00, 19.90it/s]\n",
      "100%|████████████████████████████████████████████████████████████████████████████████| 135/135 [00:07<00:00, 18.77it/s]\n",
      "100%|████████████████████████████████████████████████████████████████████████████████| 135/135 [00:07<00:00, 19.07it/s]\n",
      "100%|████████████████████████████████████████████████████████████████████████████████| 135/135 [00:06<00:00, 21.09it/s]\n",
      "100%|████████████████████████████████████████████████████████████████████████████████| 135/135 [00:05<00:00, 24.25it/s]\n",
      "100%|████████████████████████████████████████████████████████████████████████████████| 135/135 [00:06<00:00, 20.19it/s]\n",
      "100%|████████████████████████████████████████████████████████████████████████████████| 135/135 [00:08<00:00, 16.44it/s]\n",
      "100%|████████████████████████████████████████████████████████████████████████████████████████| 135/135 [00:00<?, ?it/s]\n"
     ]
    }
   ],
   "source": [
    "# Extracting Airlines Name Via Xpath\n",
    "airlines = driver.find_elements_by_xpath(\"//div[@class='fs-13 airline-name no-pad col-8']/span\")\n",
    "for i in airlines:\n",
    "    Airlines.append(i.text.replace(\"\\n\",\" \"))\n",
    "else :\n",
    "    pass\n",
    "\n",
    "# Extracting Aeroplane model  via xpath\n",
    "aeroplanes = driver.find_elements_by_xpath('//p[@class=\"normal fs-11 font-lightestgrey no-wrap fl-no\"]/span')\n",
    "for i in tqdm(aeroplanes):\n",
    "    Aeroplane.append(i.text) \n",
    "else:\n",
    "    pass\n",
    "\n",
    "# Extracting Departure Time of Filght via Xpath\n",
    "dept_times = driver.find_elements_by_xpath('//div[@class=\"i-b pr\"]')\n",
    "for i in tqdm(dept_times):\n",
    "    Dept_time.append(i.text)\n",
    "else :\n",
    "    pass\n",
    "\n",
    "# Extracting Arrival Time via xpath\n",
    "arrival = driver.find_elements_by_xpath('//p[@class=\"bold fs-15 mb-2 pr time\"]')\n",
    "for i in tqdm(arrival):\n",
    "    Arrival_time.append(i.text)\n",
    "else :\n",
    "    pass\n",
    "\n",
    "# Extracting Source of flight via Xpath\n",
    "source = driver.find_elements_by_xpath(\"//div[@class='i-b col-4 no-wrap text-right dtime col-3']/p\")\n",
    "for i in tqdm(source):\n",
    "    Source.append(i.text)\n",
    "else :\n",
    "    pass\n",
    "\n",
    "# Extracting Destination of Flights via Xpath\n",
    "destination = driver.find_elements_by_xpath('//div[@class=\"i-b pdd-0 text-left atime col-5\"]/p[2]')\n",
    "for i in tqdm(destination):\n",
    "    Destination.append(i.text)\n",
    "else:\n",
    "    pass\n",
    "\n",
    "# Extracting Duration of Flights via Xpath\n",
    "duration = driver.find_elements_by_xpath('//div[@class=\"stop-cont pl-13\"]/p')\n",
    "for i in tqdm(duration):\n",
    "    Duration.append(i.text)\n",
    "else:\n",
    "    pass\n",
    "\n",
    "# Extracting stop details via Xpath\n",
    "stop = driver.find_elements_by_xpath(\"//div[@class='stop-cont pl-13']/div/span\")\n",
    "for i in tqdm(stop):\n",
    "    Stops.append(i.text)\n",
    "else:\n",
    "    pass\n",
    "\n",
    "# Extracting Price of Flights via Xpath\n",
    "count = 0\n",
    "price = driver.find_elements_by_xpath('//div[@class=\"i-b tipsy fare-summary-tooltip fs-18\"]')\n",
    "for i in tqdm(price):\n",
    "    Price.append(i.text.replace(',',''))\n",
    "    count = count +1\n",
    "else:\n",
    "    count = count +1\n",
    "    pass\n",
    "\n",
    "# Clicking on Flights details element\n",
    "Button = driver.find_elements_by_xpath('//div[@class=\"link-color fs-12 cursor-pointer\"]/span')\n",
    "driver.execute_script(\"arguments[0].click();\", WebDriverWait(driver, 20).until(EC.element_to_be_clickable((By.XPATH,'//div[@class=\"link-color fs-12 cursor-pointer\"]/span'))))\n",
    "time.sleep(0.25)\n",
    "\n",
    "# Extracting Date of Flights via Xpath\n",
    "date = driver.find_element_by_xpath('//div[@class=\"bold fs-12 mb-5\"]')\n",
    "a = date.text\n",
    "for i in tqdm(range(count-1)):\n",
    "    Date.append(a)\n",
    "else:\n",
    "    pass"
   ]
  },
  {
   "cell_type": "code",
   "execution_count": 59,
   "id": "641dcfd4",
   "metadata": {},
   "outputs": [
    {
     "data": {
      "text/plain": [
       "(924, 924, 924, 924, 924, 924, 924, 924, 924, 924)"
      ]
     },
     "execution_count": 59,
     "metadata": {},
     "output_type": "execute_result"
    }
   ],
   "source": [
    "len(Aeroplane), len(Airlines), len(Dept_time), len(Arrival_time), len(Source), len(Destination), len(Duration), len(Stops),len(Price), len(Date)"
   ]
  },
  {
   "cell_type": "code",
   "execution_count": 60,
   "id": "9dfcfc75",
   "metadata": {},
   "outputs": [],
   "source": [
    "url = \"https://flight.yatra.com/air-search-ui/dom2/trigger?ADT=1&CHD=0&INF=0&class=Economy&destination=BOM&destinationCountry=IN&flexi=0&flight_depart_date=15%2F08%2F2022&hb=0&noOfSegments=1&origin=DEL&originCountry=IN&type=O&unique=1642604185273&viewName=normal\"\n",
    "driver.get(url)\n",
    "time.sleep(2)"
   ]
  },
  {
   "cell_type": "code",
   "execution_count": 63,
   "id": "b6a40518",
   "metadata": {},
   "outputs": [
    {
     "name": "stderr",
     "output_type": "stream",
     "text": [
      "100%|██████████████████████████████████████████████████████████████████████████████████| 75/75 [00:59<00:00,  1.26it/s]\n"
     ]
    }
   ],
   "source": [
    "for _ in tqdm (range(0,75)):\n",
    "    time.sleep(0.1)\n",
    "    driver.execute_script(\"window.scrollBy(0,3000)\",\"\")\n",
    "    time.sleep(0.2)\n",
    "    driver.execute_script(\"window.scrollBy(0,-500)\",\"\")"
   ]
  },
  {
   "cell_type": "code",
   "execution_count": 64,
   "id": "bb476a5d",
   "metadata": {},
   "outputs": [
    {
     "data": {
      "text/plain": [
       "169"
      ]
     },
     "execution_count": 64,
     "metadata": {},
     "output_type": "execute_result"
    }
   ],
   "source": [
    "flights=driver.find_elements_by_xpath('//div[@class=\"flight-det table full-width clearfix\"]')\n",
    "len(flights)"
   ]
  },
  {
   "cell_type": "code",
   "execution_count": 65,
   "id": "865a62d1",
   "metadata": {},
   "outputs": [
    {
     "name": "stderr",
     "output_type": "stream",
     "text": [
      "100%|████████████████████████████████████████████████████████████████████████████████| 169/169 [00:06<00:00, 26.55it/s]\n",
      "100%|████████████████████████████████████████████████████████████████████████████████| 169/169 [00:07<00:00, 23.85it/s]\n",
      "100%|████████████████████████████████████████████████████████████████████████████████| 169/169 [00:08<00:00, 19.68it/s]\n",
      "100%|████████████████████████████████████████████████████████████████████████████████| 169/169 [00:08<00:00, 19.52it/s]\n",
      "100%|████████████████████████████████████████████████████████████████████████████████| 169/169 [00:09<00:00, 17.34it/s]\n",
      "100%|████████████████████████████████████████████████████████████████████████████████| 169/169 [00:10<00:00, 15.73it/s]\n",
      "100%|████████████████████████████████████████████████████████████████████████████████| 169/169 [00:11<00:00, 14.98it/s]\n",
      "100%|████████████████████████████████████████████████████████████████████████████████| 169/169 [00:12<00:00, 13.82it/s]\n",
      "100%|████████████████████████████████████████████████████████████████████████████████████████| 169/169 [00:00<?, ?it/s]\n"
     ]
    }
   ],
   "source": [
    "# Extracting Airlines Name Via Xpath\n",
    "airlines = driver.find_elements_by_xpath(\"//div[@class='fs-13 airline-name no-pad col-8']/span\")\n",
    "for i in airlines:\n",
    "    Airlines.append(i.text.replace(\"\\n\",\" \"))\n",
    "else :\n",
    "    pass\n",
    "\n",
    "# Extracting Aeroplane model  via xpath\n",
    "aeroplanes = driver.find_elements_by_xpath('//p[@class=\"normal fs-11 font-lightestgrey no-wrap fl-no\"]/span')\n",
    "for i in tqdm(aeroplanes):\n",
    "    Aeroplane.append(i.text) \n",
    "else:\n",
    "    pass\n",
    "\n",
    "# Extracting Departure Time of Filght via Xpath\n",
    "dept_times = driver.find_elements_by_xpath('//div[@class=\"i-b pr\"]')\n",
    "for i in tqdm(dept_times):\n",
    "    Dept_time.append(i.text)\n",
    "else :\n",
    "    pass\n",
    "\n",
    "# Extracting Arrival Time via xpath\n",
    "arrival = driver.find_elements_by_xpath('//p[@class=\"bold fs-15 mb-2 pr time\"]')\n",
    "for i in tqdm(arrival):\n",
    "    Arrival_time.append(i.text)\n",
    "else :\n",
    "    pass\n",
    "\n",
    "# Extracting Source of flight via Xpath\n",
    "source = driver.find_elements_by_xpath(\"//div[@class='i-b col-4 no-wrap text-right dtime col-3']/p\")\n",
    "for i in tqdm(source):\n",
    "    Source.append(i.text)\n",
    "else :\n",
    "    pass\n",
    "\n",
    "# Extracting Destination of Flights via Xpath\n",
    "destination = driver.find_elements_by_xpath('//div[@class=\"i-b pdd-0 text-left atime col-5\"]/p[2]')\n",
    "for i in tqdm(destination):\n",
    "    Destination.append(i.text)\n",
    "else:\n",
    "    pass\n",
    "\n",
    "# Extracting Duration of Flights via Xpath\n",
    "duration = driver.find_elements_by_xpath('//div[@class=\"stop-cont pl-13\"]/p')\n",
    "for i in tqdm(duration):\n",
    "    Duration.append(i.text)\n",
    "else:\n",
    "    pass\n",
    "\n",
    "# Extracting stop details via Xpath\n",
    "stop = driver.find_elements_by_xpath(\"//div[@class='stop-cont pl-13']/div/span\")\n",
    "for i in tqdm(stop):\n",
    "    Stops.append(i.text)\n",
    "else:\n",
    "    pass\n",
    "\n",
    "# Extracting Price of Flights via Xpath\n",
    "count = 0\n",
    "price = driver.find_elements_by_xpath('//div[@class=\"i-b tipsy fare-summary-tooltip fs-18\"]')\n",
    "for i in tqdm(price):\n",
    "    Price.append(i.text.replace(',',''))\n",
    "    count = count +1\n",
    "else:\n",
    "    count = count +1\n",
    "    pass\n",
    "\n",
    "# Clicking on Flights details element\n",
    "Button = driver.find_elements_by_xpath('//div[@class=\"link-color fs-12 cursor-pointer\"]/span')\n",
    "driver.execute_script(\"arguments[0].click();\", WebDriverWait(driver, 20).until(EC.element_to_be_clickable((By.XPATH,'//div[@class=\"link-color fs-12 cursor-pointer\"]/span'))))\n",
    "time.sleep(0.25)\n",
    "\n",
    "# Extracting Date of Flights via Xpath\n",
    "date = driver.find_element_by_xpath('//div[@class=\"bold fs-12 mb-5\"]')\n",
    "a = date.text\n",
    "for i in tqdm(range(count-1)):\n",
    "    Date.append(a)\n",
    "else:\n",
    "    pass"
   ]
  },
  {
   "cell_type": "code",
   "execution_count": 66,
   "id": "c507d515",
   "metadata": {},
   "outputs": [
    {
     "data": {
      "text/plain": [
       "(1093, 1093, 1093, 1093, 1093, 1093, 1093, 1093, 1093, 1093)"
      ]
     },
     "execution_count": 66,
     "metadata": {},
     "output_type": "execute_result"
    }
   ],
   "source": [
    "len(Aeroplane), len(Airlines), len(Dept_time), len(Arrival_time), len(Source), len(Destination), len(Duration), len(Stops),len(Price), len(Date)"
   ]
  },
  {
   "cell_type": "markdown",
   "id": "b162f0f3",
   "metadata": {},
   "source": [
    "2. Extracting Business flights from New Dehli to Bombay"
   ]
  },
  {
   "cell_type": "markdown",
   "id": "a107d6ea",
   "metadata": {},
   "source": [
    "Opening Business flights from New Dehli to Bombay on 07 Aug 2022"
   ]
  },
  {
   "cell_type": "code",
   "execution_count": 67,
   "id": "2479fae0",
   "metadata": {},
   "outputs": [],
   "source": [
    "url = \"https://flight.yatra.com/air-search-ui/dom2/trigger?ADT=1&CHD=0&INF=0&class=Business&destination=BOM&destinationCountry=IN&flexi=0&flight_depart_date=07%2F08%2F2022&hb=0&noOfSegments=1&origin=DEL&originCountry=IN&type=O&unique=1530694917645&version=1.1&viewName=normal\"\n",
    "driver.get(url)\n",
    "time.sleep(2)"
   ]
  },
  {
   "cell_type": "code",
   "execution_count": 69,
   "id": "c495e0d2",
   "metadata": {},
   "outputs": [
    {
     "name": "stderr",
     "output_type": "stream",
     "text": [
      "100%|██████████████████████████████████████████████████████████████████████████████████| 75/75 [00:33<00:00,  2.21it/s]\n"
     ]
    }
   ],
   "source": [
    "for _ in tqdm (range(0,75)):\n",
    "    time.sleep(0.1)\n",
    "    driver.execute_script(\"window.scrollBy(0,2000)\",\"\")\n",
    "    time.sleep(0.2)\n",
    "    driver.execute_script(\"window.scrollBy(0,-500)\",\"\")"
   ]
  },
  {
   "cell_type": "code",
   "execution_count": 70,
   "id": "604444a8",
   "metadata": {},
   "outputs": [
    {
     "data": {
      "text/plain": [
       "62"
      ]
     },
     "execution_count": 70,
     "metadata": {},
     "output_type": "execute_result"
    }
   ],
   "source": [
    "flights=driver.find_elements_by_xpath('//div[@class=\"flight-det table full-width clearfix\"]')\n",
    "len(flights)"
   ]
  },
  {
   "cell_type": "code",
   "execution_count": 71,
   "id": "211e48e7",
   "metadata": {},
   "outputs": [
    {
     "name": "stderr",
     "output_type": "stream",
     "text": [
      "100%|██████████████████████████████████████████████████████████████████████████████████| 62/62 [00:02<00:00, 21.78it/s]\n",
      "100%|██████████████████████████████████████████████████████████████████████████████████| 62/62 [00:02<00:00, 25.73it/s]\n",
      "100%|██████████████████████████████████████████████████████████████████████████████████| 62/62 [00:01<00:00, 32.26it/s]\n",
      "100%|██████████████████████████████████████████████████████████████████████████████████| 62/62 [00:02<00:00, 24.84it/s]\n",
      "100%|██████████████████████████████████████████████████████████████████████████████████| 62/62 [00:02<00:00, 23.54it/s]\n",
      "100%|██████████████████████████████████████████████████████████████████████████████████| 62/62 [00:02<00:00, 26.74it/s]\n",
      "100%|██████████████████████████████████████████████████████████████████████████████████| 62/62 [00:03<00:00, 16.84it/s]\n",
      "100%|██████████████████████████████████████████████████████████████████████████████████| 62/62 [00:03<00:00, 16.10it/s]\n",
      "100%|██████████████████████████████████████████████████████████████████████████████████████████| 62/62 [00:00<?, ?it/s]\n"
     ]
    }
   ],
   "source": [
    "# Extracting Airlines Name Via Xpath\n",
    "airlines = driver.find_elements_by_xpath(\"//div[@class='fs-13 airline-name no-pad col-8']/span\")\n",
    "for i in airlines:\n",
    "    Airlines.append(i.text.replace(\"\\n\",\" \"))\n",
    "else :\n",
    "    pass\n",
    "\n",
    "# Extracting Aeroplane model  via xpath\n",
    "aeroplanes = driver.find_elements_by_xpath('//p[@class=\"normal fs-11 font-lightestgrey no-wrap fl-no\"]/span')\n",
    "for i in tqdm(aeroplanes):\n",
    "    Aeroplane.append(i.text) \n",
    "else:\n",
    "    pass\n",
    "\n",
    "# Extracting Departure Time of Filght via Xpath\n",
    "dept_times = driver.find_elements_by_xpath('//div[@class=\"i-b pr\"]')\n",
    "for i in tqdm(dept_times):\n",
    "    Dept_time.append(i.text)\n",
    "else :\n",
    "    pass\n",
    "\n",
    "# Extracting Arrival Time via xpath\n",
    "arrival = driver.find_elements_by_xpath('//p[@class=\"bold fs-15 mb-2 pr time\"]')\n",
    "for i in tqdm(arrival):\n",
    "    Arrival_time.append(i.text)\n",
    "else :\n",
    "    pass\n",
    "\n",
    "# Extracting Source of flight via Xpath\n",
    "source = driver.find_elements_by_xpath(\"//div[@class='i-b col-4 no-wrap text-right dtime col-3']/p\")\n",
    "for i in tqdm(source):\n",
    "    Source.append(i.text)\n",
    "else :\n",
    "    pass\n",
    "\n",
    "# Extracting Destination of Flights via Xpath\n",
    "destination = driver.find_elements_by_xpath('//div[@class=\"i-b pdd-0 text-left atime col-5\"]/p[2]')\n",
    "for i in tqdm(destination):\n",
    "    Destination.append(i.text)\n",
    "else:\n",
    "    pass\n",
    "\n",
    "# Extracting Duration of Flights via Xpath\n",
    "duration = driver.find_elements_by_xpath('//div[@class=\"stop-cont pl-13\"]/p')\n",
    "for i in tqdm(duration):\n",
    "    Duration.append(i.text)\n",
    "else:\n",
    "    pass\n",
    "\n",
    "# Extracting stop details via Xpath\n",
    "stop = driver.find_elements_by_xpath(\"//div[@class='stop-cont pl-13']/div/span\")\n",
    "for i in tqdm(stop):\n",
    "    Stops.append(i.text)\n",
    "else:\n",
    "    pass\n",
    "\n",
    "# Extracting Price of Flights via Xpath\n",
    "count = 0\n",
    "price = driver.find_elements_by_xpath('//div[@class=\"i-b tipsy fare-summary-tooltip fs-18\"]')\n",
    "for i in tqdm(price):\n",
    "    Price.append(i.text.replace(',',''))\n",
    "    count = count +1\n",
    "else:\n",
    "    count = count +1\n",
    "    pass\n",
    "\n",
    "# Clicking on Flights details element\n",
    "Button = driver.find_elements_by_xpath('//div[@class=\"link-color fs-12 cursor-pointer\"]/span')\n",
    "driver.execute_script(\"arguments[0].click();\", WebDriverWait(driver, 20).until(EC.element_to_be_clickable((By.XPATH,'//div[@class=\"link-color fs-12 cursor-pointer\"]/span'))))\n",
    "time.sleep(0.25)\n",
    "\n",
    "# Extracting Date of Flights via Xpath\n",
    "date = driver.find_element_by_xpath('//div[@class=\"bold fs-12 mb-5\"]')\n",
    "a = date.text\n",
    "for i in tqdm(range(count-1)):\n",
    "    Date.append(a)\n",
    "else:\n",
    "    pass"
   ]
  },
  {
   "cell_type": "code",
   "execution_count": 72,
   "id": "02562d2b",
   "metadata": {},
   "outputs": [
    {
     "data": {
      "text/plain": [
       "(1155, 1155, 1155, 1155, 1155, 1155, 1155, 1155, 1155, 1155)"
      ]
     },
     "execution_count": 72,
     "metadata": {},
     "output_type": "execute_result"
    }
   ],
   "source": [
    "len(Aeroplane), len(Airlines), len(Dept_time), len(Arrival_time), len(Source), len(Destination), len(Duration), len(Stops),len(Price), len(Date)"
   ]
  },
  {
   "cell_type": "code",
   "execution_count": 74,
   "id": "d0372726",
   "metadata": {},
   "outputs": [],
   "source": [
    "url = \"https://flight.yatra.com/air-search-ui/dom2/trigger?ADT=1&CHD=0&INF=0&class=Business&destination=BOM&destinationCountry=IN&flexi=0&flight_depart_date=08%2F08%2F2022&hb=0&noOfSegments=1&origin=DEL&originCountry=IN&type=O&unique=1530694917645&version=1.1&viewName=normal\"\n",
    "driver.get(url)\n",
    "time.sleep(2)"
   ]
  },
  {
   "cell_type": "code",
   "execution_count": 75,
   "id": "a6122a8c",
   "metadata": {},
   "outputs": [
    {
     "name": "stderr",
     "output_type": "stream",
     "text": [
      "100%|██████████████████████████████████████████████████████████████████████████████████| 75/75 [00:35<00:00,  2.10it/s]\n"
     ]
    }
   ],
   "source": [
    "for _ in tqdm (range(0,75)):\n",
    "    time.sleep(0.1)\n",
    "    driver.execute_script(\"window.scrollBy(0,2000)\",\"\")\n",
    "    time.sleep(0.2)\n",
    "    driver.execute_script(\"window.scrollBy(0,-500)\",\"\")"
   ]
  },
  {
   "cell_type": "code",
   "execution_count": 76,
   "id": "63e8892b",
   "metadata": {},
   "outputs": [
    {
     "data": {
      "text/plain": [
       "57"
      ]
     },
     "execution_count": 76,
     "metadata": {},
     "output_type": "execute_result"
    }
   ],
   "source": [
    "flights=driver.find_elements_by_xpath('//div[@class=\"flight-det table full-width clearfix\"]')\n",
    "len(flights)"
   ]
  },
  {
   "cell_type": "code",
   "execution_count": 77,
   "id": "f7b0c723",
   "metadata": {},
   "outputs": [
    {
     "name": "stderr",
     "output_type": "stream",
     "text": [
      "100%|██████████████████████████████████████████████████████████████████████████████████| 57/57 [00:02<00:00, 22.82it/s]\n",
      "100%|██████████████████████████████████████████████████████████████████████████████████| 57/57 [00:02<00:00, 23.65it/s]\n",
      "100%|██████████████████████████████████████████████████████████████████████████████████| 57/57 [00:02<00:00, 21.74it/s]\n",
      "100%|██████████████████████████████████████████████████████████████████████████████████| 57/57 [00:02<00:00, 23.03it/s]\n",
      "100%|██████████████████████████████████████████████████████████████████████████████████| 57/57 [00:02<00:00, 25.00it/s]\n",
      "100%|██████████████████████████████████████████████████████████████████████████████████| 57/57 [00:02<00:00, 23.87it/s]\n",
      "100%|██████████████████████████████████████████████████████████████████████████████████| 57/57 [00:03<00:00, 18.33it/s]\n",
      "100%|██████████████████████████████████████████████████████████████████████████████████| 57/57 [00:02<00:00, 21.28it/s]\n",
      "100%|██████████████████████████████████████████████████████████████████████████████████████████| 57/57 [00:00<?, ?it/s]\n"
     ]
    }
   ],
   "source": [
    "# Extracting Airlines Name Via Xpath\n",
    "airlines = driver.find_elements_by_xpath(\"//div[@class='fs-13 airline-name no-pad col-8']/span\")\n",
    "for i in airlines:\n",
    "    Airlines.append(i.text.replace(\"\\n\",\" \"))\n",
    "else :\n",
    "    pass\n",
    "\n",
    "# Extracting Aeroplane model  via xpath\n",
    "aeroplanes = driver.find_elements_by_xpath('//p[@class=\"normal fs-11 font-lightestgrey no-wrap fl-no\"]/span')\n",
    "for i in tqdm(aeroplanes):\n",
    "    Aeroplane.append(i.text) \n",
    "else:\n",
    "    pass\n",
    "\n",
    "# Extracting Departure Time of Filght via Xpath\n",
    "dept_times = driver.find_elements_by_xpath('//div[@class=\"i-b pr\"]')\n",
    "for i in tqdm(dept_times):\n",
    "    Dept_time.append(i.text)\n",
    "else :\n",
    "    pass\n",
    "\n",
    "# Extracting Arrival Time via xpath\n",
    "arrival = driver.find_elements_by_xpath('//p[@class=\"bold fs-15 mb-2 pr time\"]')\n",
    "for i in tqdm(arrival):\n",
    "    Arrival_time.append(i.text)\n",
    "else :\n",
    "    pass\n",
    "\n",
    "# Extracting Source of flight via Xpath\n",
    "source = driver.find_elements_by_xpath(\"//div[@class='i-b col-4 no-wrap text-right dtime col-3']/p\")\n",
    "for i in tqdm(source):\n",
    "    Source.append(i.text)\n",
    "else :\n",
    "    pass\n",
    "\n",
    "# Extracting Destination of Flights via Xpath\n",
    "destination = driver.find_elements_by_xpath('//div[@class=\"i-b pdd-0 text-left atime col-5\"]/p[2]')\n",
    "for i in tqdm(destination):\n",
    "    Destination.append(i.text)\n",
    "else:\n",
    "    pass\n",
    "\n",
    "# Extracting Duration of Flights via Xpath\n",
    "duration = driver.find_elements_by_xpath('//div[@class=\"stop-cont pl-13\"]/p')\n",
    "for i in tqdm(duration):\n",
    "    Duration.append(i.text)\n",
    "else:\n",
    "    pass\n",
    "\n",
    "# Extracting stop details via Xpath\n",
    "stop = driver.find_elements_by_xpath(\"//div[@class='stop-cont pl-13']/div/span\")\n",
    "for i in tqdm(stop):\n",
    "    Stops.append(i.text)\n",
    "else:\n",
    "    pass\n",
    "\n",
    "# Extracting Price of Flights via Xpath\n",
    "count = 0\n",
    "price = driver.find_elements_by_xpath('//div[@class=\"i-b tipsy fare-summary-tooltip fs-18\"]')\n",
    "for i in tqdm(price):\n",
    "    Price.append(i.text.replace(',',''))\n",
    "    count = count +1\n",
    "else:\n",
    "    count = count +1\n",
    "    pass\n",
    "\n",
    "# Clicking on Flights details element\n",
    "Button = driver.find_elements_by_xpath('//div[@class=\"link-color fs-12 cursor-pointer\"]/span')\n",
    "driver.execute_script(\"arguments[0].click();\", WebDriverWait(driver, 20).until(EC.element_to_be_clickable((By.XPATH,'//div[@class=\"link-color fs-12 cursor-pointer\"]/span'))))\n",
    "time.sleep(0.25)\n",
    "\n",
    "# Extracting Date of Flights via Xpath\n",
    "date = driver.find_element_by_xpath('//div[@class=\"bold fs-12 mb-5\"]')\n",
    "a = date.text\n",
    "for i in tqdm(range(count-1)):\n",
    "    Date.append(a)\n",
    "else:\n",
    "    pass"
   ]
  },
  {
   "cell_type": "code",
   "execution_count": 78,
   "id": "a76564cd",
   "metadata": {},
   "outputs": [
    {
     "data": {
      "text/plain": [
       "(1212, 1212, 1212, 1212, 1212, 1212, 1212, 1212, 1212, 1212)"
      ]
     },
     "execution_count": 78,
     "metadata": {},
     "output_type": "execute_result"
    }
   ],
   "source": [
    "len(Aeroplane), len(Airlines), len(Dept_time), len(Arrival_time), len(Source), len(Destination), len(Duration), len(Stops),len(Price), len(Date)"
   ]
  },
  {
   "cell_type": "code",
   "execution_count": null,
   "id": "93cfbcd7",
   "metadata": {},
   "outputs": [],
   "source": [
    "Opening Business flights from New Dehli to Bombay on 09 Aug 2022"
   ]
  },
  {
   "cell_type": "code",
   "execution_count": 79,
   "id": "f122f75f",
   "metadata": {},
   "outputs": [],
   "source": [
    "url = \"https://flight.yatra.com/air-search-ui/dom2/trigger?ADT=1&CHD=0&INF=0&class=Business&destination=BOM&destinationCountry=IN&flexi=0&flight_depart_date=09%2F08%2F2022&hb=0&noOfSegments=1&origin=DEL&originCountry=IN&type=O&unique=1530694917645&version=1.1&viewName=normal\"\n",
    "driver.get(url)\n",
    "time.sleep(2)"
   ]
  },
  {
   "cell_type": "code",
   "execution_count": 80,
   "id": "cf81cf27",
   "metadata": {},
   "outputs": [
    {
     "name": "stderr",
     "output_type": "stream",
     "text": [
      "100%|██████████████████████████████████████████████████████████████████████████████████| 75/75 [00:40<00:00,  1.85it/s]\n"
     ]
    }
   ],
   "source": [
    "for _ in tqdm (range(0,75)):\n",
    "    time.sleep(0.1)\n",
    "    driver.execute_script(\"window.scrollBy(0,2000)\",\"\")\n",
    "    time.sleep(0.2)\n",
    "    driver.execute_script(\"window.scrollBy(0,-500)\",\"\")"
   ]
  },
  {
   "cell_type": "code",
   "execution_count": 81,
   "id": "00c40de1",
   "metadata": {},
   "outputs": [
    {
     "data": {
      "text/plain": [
       "49"
      ]
     },
     "execution_count": 81,
     "metadata": {},
     "output_type": "execute_result"
    }
   ],
   "source": [
    "flights=driver.find_elements_by_xpath('//div[@class=\"flight-det table full-width clearfix\"]')\n",
    "len(flights)"
   ]
  },
  {
   "cell_type": "code",
   "execution_count": 82,
   "id": "c84fe686",
   "metadata": {},
   "outputs": [
    {
     "name": "stderr",
     "output_type": "stream",
     "text": [
      "100%|██████████████████████████████████████████████████████████████████████████████████| 49/49 [00:01<00:00, 30.76it/s]\n",
      "100%|██████████████████████████████████████████████████████████████████████████████████| 49/49 [00:02<00:00, 24.14it/s]\n",
      "100%|██████████████████████████████████████████████████████████████████████████████████| 49/49 [00:01<00:00, 25.31it/s]\n",
      "100%|██████████████████████████████████████████████████████████████████████████████████| 49/49 [00:01<00:00, 25.13it/s]\n",
      "100%|██████████████████████████████████████████████████████████████████████████████████| 49/49 [00:02<00:00, 24.45it/s]\n",
      "100%|██████████████████████████████████████████████████████████████████████████████████| 49/49 [00:01<00:00, 25.28it/s]\n",
      "100%|██████████████████████████████████████████████████████████████████████████████████| 49/49 [00:01<00:00, 24.86it/s]\n",
      "100%|██████████████████████████████████████████████████████████████████████████████████| 49/49 [00:02<00:00, 23.87it/s]\n",
      "100%|███████████████████████████████████████████████████████████████████████████████| 49/49 [00:00<00:00, 49108.94it/s]\n"
     ]
    }
   ],
   "source": [
    "# Extracting Airlines Name Via Xpath\n",
    "airlines = driver.find_elements_by_xpath(\"//div[@class='fs-13 airline-name no-pad col-8']/span\")\n",
    "for i in airlines:\n",
    "    Airlines.append(i.text.replace(\"\\n\",\" \"))\n",
    "else :\n",
    "    pass\n",
    "\n",
    "# Extracting Aeroplane model  via xpath\n",
    "aeroplanes = driver.find_elements_by_xpath('//p[@class=\"normal fs-11 font-lightestgrey no-wrap fl-no\"]/span')\n",
    "for i in tqdm(aeroplanes):\n",
    "    Aeroplane.append(i.text) \n",
    "else:\n",
    "    pass\n",
    "\n",
    "# Extracting Departure Time of Filght via Xpath\n",
    "dept_times = driver.find_elements_by_xpath('//div[@class=\"i-b pr\"]')\n",
    "for i in tqdm(dept_times):\n",
    "    Dept_time.append(i.text)\n",
    "else :\n",
    "    pass\n",
    "\n",
    "# Extracting Arrival Time via xpath\n",
    "arrival = driver.find_elements_by_xpath('//p[@class=\"bold fs-15 mb-2 pr time\"]')\n",
    "for i in tqdm(arrival):\n",
    "    Arrival_time.append(i.text)\n",
    "else :\n",
    "    pass\n",
    "\n",
    "# Extracting Source of flight via Xpath\n",
    "source = driver.find_elements_by_xpath(\"//div[@class='i-b col-4 no-wrap text-right dtime col-3']/p\")\n",
    "for i in tqdm(source):\n",
    "    Source.append(i.text)\n",
    "else :\n",
    "    pass\n",
    "\n",
    "# Extracting Destination of Flights via Xpath\n",
    "destination = driver.find_elements_by_xpath('//div[@class=\"i-b pdd-0 text-left atime col-5\"]/p[2]')\n",
    "for i in tqdm(destination):\n",
    "    Destination.append(i.text)\n",
    "else:\n",
    "    pass\n",
    "\n",
    "# Extracting Duration of Flights via Xpath\n",
    "duration = driver.find_elements_by_xpath('//div[@class=\"stop-cont pl-13\"]/p')\n",
    "for i in tqdm(duration):\n",
    "    Duration.append(i.text)\n",
    "else:\n",
    "    pass\n",
    "\n",
    "# Extracting stop details via Xpath\n",
    "stop = driver.find_elements_by_xpath(\"//div[@class='stop-cont pl-13']/div/span\")\n",
    "for i in tqdm(stop):\n",
    "    Stops.append(i.text)\n",
    "else:\n",
    "    pass\n",
    "\n",
    "# Extracting Price of Flights via Xpath\n",
    "count = 0\n",
    "price = driver.find_elements_by_xpath('//div[@class=\"i-b tipsy fare-summary-tooltip fs-18\"]')\n",
    "for i in tqdm(price):\n",
    "    Price.append(i.text.replace(',',''))\n",
    "    count = count +1\n",
    "else:\n",
    "    count = count +1\n",
    "    pass\n",
    "\n",
    "# Clicking on Flights details element\n",
    "Button = driver.find_elements_by_xpath('//div[@class=\"link-color fs-12 cursor-pointer\"]/span')\n",
    "driver.execute_script(\"arguments[0].click();\", WebDriverWait(driver, 20).until(EC.element_to_be_clickable((By.XPATH,'//div[@class=\"link-color fs-12 cursor-pointer\"]/span'))))\n",
    "time.sleep(0.25)\n",
    "\n",
    "# Extracting Date of Flights via Xpath\n",
    "date = driver.find_element_by_xpath('//div[@class=\"bold fs-12 mb-5\"]')\n",
    "a = date.text\n",
    "for i in tqdm(range(count-1)):\n",
    "    Date.append(a)\n",
    "else:\n",
    "    pass"
   ]
  },
  {
   "cell_type": "code",
   "execution_count": 83,
   "id": "7e040183",
   "metadata": {},
   "outputs": [
    {
     "data": {
      "text/plain": [
       "(1261, 1261, 1261, 1261, 1261, 1261, 1261, 1261, 1261, 1261)"
      ]
     },
     "execution_count": 83,
     "metadata": {},
     "output_type": "execute_result"
    }
   ],
   "source": [
    "len(Aeroplane), len(Airlines), len(Dept_time), len(Arrival_time), len(Source), len(Destination), len(Duration), len(Stops),len(Price), len(Date)"
   ]
  },
  {
   "cell_type": "markdown",
   "id": "03b39564",
   "metadata": {},
   "source": [
    "Opening Business flights from New Dehli to Bombay on 10 Aug 2022"
   ]
  },
  {
   "cell_type": "code",
   "execution_count": 84,
   "id": "27a63809",
   "metadata": {},
   "outputs": [],
   "source": [
    "url = \"https://flight.yatra.com/air-search-ui/dom2/trigger?ADT=1&CHD=0&INF=0&class=Business&destination=BOM&destinationCountry=IN&flexi=0&flight_depart_date=10%2F08%2F2022&hb=0&noOfSegments=1&origin=DEL&originCountry=IN&type=O&unique=1530694917645&version=1.1&viewName=normal\"\n",
    "driver.get(url)\n",
    "time.sleep(2)"
   ]
  },
  {
   "cell_type": "code",
   "execution_count": 85,
   "id": "4ec78f2b",
   "metadata": {},
   "outputs": [
    {
     "name": "stderr",
     "output_type": "stream",
     "text": [
      "100%|██████████████████████████████████████████████████████████████████████████████████| 75/75 [00:41<00:00,  1.81it/s]\n"
     ]
    }
   ],
   "source": [
    "for _ in tqdm (range(0,75)):\n",
    "    time.sleep(0.1)\n",
    "    driver.execute_script(\"window.scrollBy(0,2000)\",\"\")\n",
    "    time.sleep(0.2)\n",
    "    driver.execute_script(\"window.scrollBy(0,-500)\",\"\")"
   ]
  },
  {
   "cell_type": "code",
   "execution_count": 86,
   "id": "93b3485e",
   "metadata": {},
   "outputs": [
    {
     "data": {
      "text/plain": [
       "66"
      ]
     },
     "execution_count": 86,
     "metadata": {},
     "output_type": "execute_result"
    }
   ],
   "source": [
    "flights=driver.find_elements_by_xpath('//div[@class=\"flight-det table full-width clearfix\"]')\n",
    "len(flights)"
   ]
  },
  {
   "cell_type": "code",
   "execution_count": 87,
   "id": "d250ea7c",
   "metadata": {},
   "outputs": [
    {
     "name": "stderr",
     "output_type": "stream",
     "text": [
      "100%|██████████████████████████████████████████████████████████████████████████████████| 66/66 [00:02<00:00, 30.71it/s]\n",
      "100%|██████████████████████████████████████████████████████████████████████████████████| 66/66 [00:02<00:00, 22.02it/s]\n",
      "100%|██████████████████████████████████████████████████████████████████████████████████| 66/66 [00:02<00:00, 22.88it/s]\n",
      "100%|██████████████████████████████████████████████████████████████████████████████████| 66/66 [00:02<00:00, 23.96it/s]\n",
      "100%|██████████████████████████████████████████████████████████████████████████████████| 66/66 [00:03<00:00, 19.34it/s]\n",
      "100%|██████████████████████████████████████████████████████████████████████████████████| 66/66 [00:03<00:00, 21.83it/s]\n",
      "100%|██████████████████████████████████████████████████████████████████████████████████| 66/66 [00:04<00:00, 15.92it/s]\n",
      "100%|██████████████████████████████████████████████████████████████████████████████████| 66/66 [00:03<00:00, 18.84it/s]\n",
      "100%|███████████████████████████████████████████████████████████████████████████████| 66/66 [00:00<00:00, 66225.85it/s]\n"
     ]
    }
   ],
   "source": [
    "# Extracting Airlines Name Via Xpath\n",
    "airlines = driver.find_elements_by_xpath(\"//div[@class='fs-13 airline-name no-pad col-8']/span\")\n",
    "for i in airlines:\n",
    "    Airlines.append(i.text.replace(\"\\n\",\" \"))\n",
    "else :\n",
    "    pass\n",
    "\n",
    "# Extracting Aeroplane model  via xpath\n",
    "aeroplanes = driver.find_elements_by_xpath('//p[@class=\"normal fs-11 font-lightestgrey no-wrap fl-no\"]/span')\n",
    "for i in tqdm(aeroplanes):\n",
    "    Aeroplane.append(i.text) \n",
    "else:\n",
    "    pass\n",
    "\n",
    "# Extracting Departure Time of Filght via Xpath\n",
    "dept_times = driver.find_elements_by_xpath('//div[@class=\"i-b pr\"]')\n",
    "for i in tqdm(dept_times):\n",
    "    Dept_time.append(i.text)\n",
    "else :\n",
    "    pass\n",
    "\n",
    "# Extracting Arrival Time via xpath\n",
    "arrival = driver.find_elements_by_xpath('//p[@class=\"bold fs-15 mb-2 pr time\"]')\n",
    "for i in tqdm(arrival):\n",
    "    Arrival_time.append(i.text)\n",
    "else :\n",
    "    pass\n",
    "\n",
    "# Extracting Source of flight via Xpath\n",
    "source = driver.find_elements_by_xpath(\"//div[@class='i-b col-4 no-wrap text-right dtime col-3']/p\")\n",
    "for i in tqdm(source):\n",
    "    Source.append(i.text)\n",
    "else :\n",
    "    pass\n",
    "\n",
    "# Extracting Destination of Flights via Xpath\n",
    "destination = driver.find_elements_by_xpath('//div[@class=\"i-b pdd-0 text-left atime col-5\"]/p[2]')\n",
    "for i in tqdm(destination):\n",
    "    Destination.append(i.text)\n",
    "else:\n",
    "    pass\n",
    "\n",
    "# Extracting Duration of Flights via Xpath\n",
    "duration = driver.find_elements_by_xpath('//div[@class=\"stop-cont pl-13\"]/p')\n",
    "for i in tqdm(duration):\n",
    "    Duration.append(i.text)\n",
    "else:\n",
    "    pass\n",
    "\n",
    "# Extracting stop details via Xpath\n",
    "stop = driver.find_elements_by_xpath(\"//div[@class='stop-cont pl-13']/div/span\")\n",
    "for i in tqdm(stop):\n",
    "    Stops.append(i.text)\n",
    "else:\n",
    "    pass\n",
    "\n",
    "# Extracting Price of Flights via Xpath\n",
    "count = 0\n",
    "price = driver.find_elements_by_xpath('//div[@class=\"i-b tipsy fare-summary-tooltip fs-18\"]')\n",
    "for i in tqdm(price):\n",
    "    Price.append(i.text.replace(',',''))\n",
    "    count = count +1\n",
    "else:\n",
    "    count = count +1\n",
    "    pass\n",
    "\n",
    "# Clicking on Flights details element\n",
    "Button = driver.find_elements_by_xpath('//div[@class=\"link-color fs-12 cursor-pointer\"]/span')\n",
    "driver.execute_script(\"arguments[0].click();\", WebDriverWait(driver, 20).until(EC.element_to_be_clickable((By.XPATH,'//div[@class=\"link-color fs-12 cursor-pointer\"]/span'))))\n",
    "time.sleep(0.25)\n",
    "\n",
    "# Extracting Date of Flights via Xpath\n",
    "date = driver.find_element_by_xpath('//div[@class=\"bold fs-12 mb-5\"]')\n",
    "a = date.text\n",
    "for i in tqdm(range(count-1)):\n",
    "    Date.append(a)\n",
    "else:\n",
    "    pass"
   ]
  },
  {
   "cell_type": "code",
   "execution_count": 88,
   "id": "d260bbfe",
   "metadata": {},
   "outputs": [
    {
     "data": {
      "text/plain": [
       "(1327, 1327, 1327, 1327, 1327, 1327, 1327, 1327, 1327, 1327)"
      ]
     },
     "execution_count": 88,
     "metadata": {},
     "output_type": "execute_result"
    }
   ],
   "source": [
    "len(Aeroplane), len(Airlines), len(Dept_time), len(Arrival_time), len(Source), len(Destination), len(Duration), len(Stops),len(Price), len(Date)"
   ]
  },
  {
   "cell_type": "markdown",
   "id": "8e1a7e25",
   "metadata": {},
   "source": [
    "Opening Business flights from New Dehli to Bombay on 11 Aug 2022"
   ]
  },
  {
   "cell_type": "code",
   "execution_count": 91,
   "id": "f8c6f519",
   "metadata": {},
   "outputs": [],
   "source": [
    "url = \"https://flight.yatra.com/air-search-ui/dom2/trigger?ADT=1&CHD=0&INF=0&class=Business&destination=BOM&destinationCountry=IN&flexi=0&flight_depart_date=11%2F08%2F2022&hb=0&noOfSegments=1&origin=DEL&originCountry=IN&type=O&unique=1530694917645&version=1.1&viewName=normal\"\n",
    "driver.get(url)\n",
    "time.sleep(2)"
   ]
  },
  {
   "cell_type": "code",
   "execution_count": 92,
   "id": "e3e674e6",
   "metadata": {},
   "outputs": [
    {
     "data": {
      "text/plain": [
       "25"
      ]
     },
     "execution_count": 92,
     "metadata": {},
     "output_type": "execute_result"
    }
   ],
   "source": [
    "flights=driver.find_elements_by_xpath('//div[@class=\"flight-det table full-width clearfix\"]')\n",
    "len(flights)"
   ]
  },
  {
   "cell_type": "code",
   "execution_count": 93,
   "id": "69633ca8",
   "metadata": {},
   "outputs": [
    {
     "name": "stderr",
     "output_type": "stream",
     "text": [
      "100%|██████████████████████████████████████████████████████████████████████████████████| 25/25 [00:00<00:00, 27.47it/s]\n",
      "100%|██████████████████████████████████████████████████████████████████████████████████| 25/25 [00:01<00:00, 18.27it/s]\n",
      "100%|██████████████████████████████████████████████████████████████████████████████████| 25/25 [00:00<00:00, 27.81it/s]\n",
      "100%|██████████████████████████████████████████████████████████████████████████████████| 25/25 [00:01<00:00, 24.90it/s]\n",
      "100%|██████████████████████████████████████████████████████████████████████████████████| 25/25 [00:01<00:00, 19.86it/s]\n",
      "100%|██████████████████████████████████████████████████████████████████████████████████| 25/25 [00:01<00:00, 24.78it/s]\n",
      "100%|██████████████████████████████████████████████████████████████████████████████████| 25/25 [00:01<00:00, 22.28it/s]\n",
      "100%|██████████████████████████████████████████████████████████████████████████████████| 25/25 [00:01<00:00, 22.60it/s]\n",
      "100%|███████████████████████████████████████████████████████████████████████████████| 25/25 [00:00<00:00, 25001.81it/s]\n"
     ]
    }
   ],
   "source": [
    "# Extracting Airlines Name Via Xpath\n",
    "airlines = driver.find_elements_by_xpath(\"//div[@class='fs-13 airline-name no-pad col-8']/span\")\n",
    "for i in airlines:\n",
    "    Airlines.append(i.text.replace(\"\\n\",\" \"))\n",
    "else :\n",
    "    pass\n",
    "\n",
    "# Extracting Aeroplane model  via xpath\n",
    "aeroplanes = driver.find_elements_by_xpath('//p[@class=\"normal fs-11 font-lightestgrey no-wrap fl-no\"]/span')\n",
    "for i in tqdm(aeroplanes):\n",
    "    Aeroplane.append(i.text) \n",
    "else:\n",
    "    pass\n",
    "\n",
    "# Extracting Departure Time of Filght via Xpath\n",
    "dept_times = driver.find_elements_by_xpath('//div[@class=\"i-b pr\"]')\n",
    "for i in tqdm(dept_times):\n",
    "    Dept_time.append(i.text)\n",
    "else :\n",
    "    pass\n",
    "\n",
    "# Extracting Arrival Time via xpath\n",
    "arrival = driver.find_elements_by_xpath('//p[@class=\"bold fs-15 mb-2 pr time\"]')\n",
    "for i in tqdm(arrival):\n",
    "    Arrival_time.append(i.text)\n",
    "else :\n",
    "    pass\n",
    "\n",
    "# Extracting Source of flight via Xpath\n",
    "source = driver.find_elements_by_xpath(\"//div[@class='i-b col-4 no-wrap text-right dtime col-3']/p\")\n",
    "for i in tqdm(source):\n",
    "    Source.append(i.text)\n",
    "else :\n",
    "    pass\n",
    "\n",
    "# Extracting Destination of Flights via Xpath\n",
    "destination = driver.find_elements_by_xpath('//div[@class=\"i-b pdd-0 text-left atime col-5\"]/p[2]')\n",
    "for i in tqdm(destination):\n",
    "    Destination.append(i.text)\n",
    "else:\n",
    "    pass\n",
    "\n",
    "# Extracting Duration of Flights via Xpath\n",
    "duration = driver.find_elements_by_xpath('//div[@class=\"stop-cont pl-13\"]/p')\n",
    "for i in tqdm(duration):\n",
    "    Duration.append(i.text)\n",
    "else:\n",
    "    pass\n",
    "\n",
    "# Extracting stop details via Xpath\n",
    "stop = driver.find_elements_by_xpath(\"//div[@class='stop-cont pl-13']/div/span\")\n",
    "for i in tqdm(stop):\n",
    "    Stops.append(i.text)\n",
    "else:\n",
    "    pass\n",
    "\n",
    "# Extracting Price of Flights via Xpath\n",
    "count = 0\n",
    "price = driver.find_elements_by_xpath('//div[@class=\"i-b tipsy fare-summary-tooltip fs-18\"]')\n",
    "for i in tqdm(price):\n",
    "    Price.append(i.text.replace(',',''))\n",
    "    count = count +1\n",
    "else:\n",
    "    count = count +1\n",
    "    pass\n",
    "\n",
    "# Clicking on Flights details element\n",
    "Button = driver.find_elements_by_xpath('//div[@class=\"link-color fs-12 cursor-pointer\"]/span')\n",
    "driver.execute_script(\"arguments[0].click();\", WebDriverWait(driver, 20).until(EC.element_to_be_clickable((By.XPATH,'//div[@class=\"link-color fs-12 cursor-pointer\"]/span'))))\n",
    "time.sleep(0.25)\n",
    "\n",
    "# Extracting Date of Flights via Xpath\n",
    "date = driver.find_element_by_xpath('//div[@class=\"bold fs-12 mb-5\"]')\n",
    "a = date.text\n",
    "for i in tqdm(range(count-1)):\n",
    "    Date.append(a)\n",
    "else:\n",
    "    pass"
   ]
  },
  {
   "cell_type": "code",
   "execution_count": 94,
   "id": "76b9a7c4",
   "metadata": {},
   "outputs": [
    {
     "data": {
      "text/plain": [
       "(1352, 1352, 1352, 1352, 1352, 1352, 1352, 1352, 1352, 1352)"
      ]
     },
     "execution_count": 94,
     "metadata": {},
     "output_type": "execute_result"
    }
   ],
   "source": [
    "len(Aeroplane), len(Airlines), len(Dept_time), len(Arrival_time), len(Source), len(Destination), len(Duration), len(Stops),len(Price), len(Date)"
   ]
  },
  {
   "cell_type": "markdown",
   "id": "c5b00884",
   "metadata": {},
   "source": [
    "Opening Business flights from New Dehli to Bombay on 12 Aug 2022"
   ]
  },
  {
   "cell_type": "code",
   "execution_count": 96,
   "id": "be1c517a",
   "metadata": {},
   "outputs": [],
   "source": [
    "url = \"https://flight.yatra.com/air-search-ui/dom2/trigger?ADT=1&CHD=0&INF=0&class=Business&destination=BOM&destinationCountry=IN&flexi=0&flight_depart_date=12%2F08%2F2022&hb=0&noOfSegments=1&origin=DEL&originCountry=IN&type=O&unique=1530694917645&version=1.1&viewName=normal\"\n",
    "driver.get(url)\n",
    "time.sleep(2)"
   ]
  },
  {
   "cell_type": "code",
   "execution_count": 97,
   "id": "fa11a7d4",
   "metadata": {},
   "outputs": [
    {
     "data": {
      "text/plain": [
       "71"
      ]
     },
     "execution_count": 97,
     "metadata": {},
     "output_type": "execute_result"
    }
   ],
   "source": [
    "flights=driver.find_elements_by_xpath('//div[@class=\"flight-det table full-width clearfix\"]')\n",
    "len(flights)"
   ]
  },
  {
   "cell_type": "code",
   "execution_count": 98,
   "id": "12757ebb",
   "metadata": {},
   "outputs": [
    {
     "name": "stderr",
     "output_type": "stream",
     "text": [
      "100%|██████████████████████████████████████████████████████████████████████████████████| 71/71 [00:02<00:00, 30.01it/s]\n",
      "100%|██████████████████████████████████████████████████████████████████████████████████| 71/71 [00:02<00:00, 25.61it/s]\n",
      "100%|██████████████████████████████████████████████████████████████████████████████████| 71/71 [00:02<00:00, 24.65it/s]\n",
      "100%|██████████████████████████████████████████████████████████████████████████████████| 71/71 [00:03<00:00, 23.36it/s]\n",
      "100%|██████████████████████████████████████████████████████████████████████████████████| 71/71 [00:03<00:00, 23.62it/s]\n",
      "100%|██████████████████████████████████████████████████████████████████████████████████| 71/71 [00:03<00:00, 22.71it/s]\n",
      "100%|██████████████████████████████████████████████████████████████████████████████████| 71/71 [00:03<00:00, 18.95it/s]\n",
      "100%|██████████████████████████████████████████████████████████████████████████████████| 71/71 [00:04<00:00, 17.16it/s]\n",
      "100%|███████████████████████████████████████████████████████████████████████████████| 71/71 [00:00<00:00, 70988.22it/s]\n"
     ]
    }
   ],
   "source": [
    "# Extracting Airlines Name Via Xpath\n",
    "airlines = driver.find_elements_by_xpath(\"//div[@class='fs-13 airline-name no-pad col-8']/span\")\n",
    "for i in airlines:\n",
    "    Airlines.append(i.text.replace(\"\\n\",\" \"))\n",
    "else :\n",
    "    pass\n",
    "\n",
    "# Extracting Aeroplane model  via xpath\n",
    "aeroplanes = driver.find_elements_by_xpath('//p[@class=\"normal fs-11 font-lightestgrey no-wrap fl-no\"]/span')\n",
    "for i in tqdm(aeroplanes):\n",
    "    Aeroplane.append(i.text) \n",
    "else:\n",
    "    pass\n",
    "\n",
    "# Extracting Departure Time of Filght via Xpath\n",
    "dept_times = driver.find_elements_by_xpath('//div[@class=\"i-b pr\"]')\n",
    "for i in tqdm(dept_times):\n",
    "    Dept_time.append(i.text)\n",
    "else :\n",
    "    pass\n",
    "\n",
    "# Extracting Arrival Time via xpath\n",
    "arrival = driver.find_elements_by_xpath('//p[@class=\"bold fs-15 mb-2 pr time\"]')\n",
    "for i in tqdm(arrival):\n",
    "    Arrival_time.append(i.text)\n",
    "else :\n",
    "    pass\n",
    "\n",
    "# Extracting Source of flight via Xpath\n",
    "source = driver.find_elements_by_xpath(\"//div[@class='i-b col-4 no-wrap text-right dtime col-3']/p\")\n",
    "for i in tqdm(source):\n",
    "    Source.append(i.text)\n",
    "else :\n",
    "    pass\n",
    "\n",
    "# Extracting Destination of Flights via Xpath\n",
    "destination = driver.find_elements_by_xpath('//div[@class=\"i-b pdd-0 text-left atime col-5\"]/p[2]')\n",
    "for i in tqdm(destination):\n",
    "    Destination.append(i.text)\n",
    "else:\n",
    "    pass\n",
    "\n",
    "# Extracting Duration of Flights via Xpath\n",
    "duration = driver.find_elements_by_xpath('//div[@class=\"stop-cont pl-13\"]/p')\n",
    "for i in tqdm(duration):\n",
    "    Duration.append(i.text)\n",
    "else:\n",
    "    pass\n",
    "\n",
    "# Extracting stop details via Xpath\n",
    "stop = driver.find_elements_by_xpath(\"//div[@class='stop-cont pl-13']/div/span\")\n",
    "for i in tqdm(stop):\n",
    "    Stops.append(i.text)\n",
    "else:\n",
    "    pass\n",
    "\n",
    "# Extracting Price of Flights via Xpath\n",
    "count = 0\n",
    "price = driver.find_elements_by_xpath('//div[@class=\"i-b tipsy fare-summary-tooltip fs-18\"]')\n",
    "for i in tqdm(price):\n",
    "    Price.append(i.text.replace(',',''))\n",
    "    count = count +1\n",
    "else:\n",
    "    count = count +1\n",
    "    pass\n",
    "\n",
    "# Clicking on Flights details element\n",
    "Button = driver.find_elements_by_xpath('//div[@class=\"link-color fs-12 cursor-pointer\"]/span')\n",
    "driver.execute_script(\"arguments[0].click();\", WebDriverWait(driver, 20).until(EC.element_to_be_clickable((By.XPATH,'//div[@class=\"link-color fs-12 cursor-pointer\"]/span'))))\n",
    "time.sleep(0.25)\n",
    "\n",
    "# Extracting Date of Flights via Xpath\n",
    "date = driver.find_element_by_xpath('//div[@class=\"bold fs-12 mb-5\"]')\n",
    "a = date.text\n",
    "for i in tqdm(range(count-1)):\n",
    "    Date.append(a)\n",
    "else:\n",
    "    pass"
   ]
  },
  {
   "cell_type": "code",
   "execution_count": 99,
   "id": "fcb6863c",
   "metadata": {},
   "outputs": [
    {
     "data": {
      "text/plain": [
       "(1423, 1423, 1423, 1423, 1423, 1423, 1423, 1423, 1423, 1423)"
      ]
     },
     "execution_count": 99,
     "metadata": {},
     "output_type": "execute_result"
    }
   ],
   "source": [
    "len(Aeroplane), len(Airlines), len(Dept_time), len(Arrival_time), len(Source), len(Destination), len(Duration), len(Stops),len(Price), len(Date)"
   ]
  },
  {
   "cell_type": "markdown",
   "id": "8fc3ceb6",
   "metadata": {},
   "source": [
    "Opening Business flights from New Dehli to Bombay on 13 Aug 2022"
   ]
  },
  {
   "cell_type": "code",
   "execution_count": 101,
   "id": "25847791",
   "metadata": {},
   "outputs": [],
   "source": [
    "url = \"https://flight.yatra.com/air-search-ui/dom2/trigger?ADT=1&CHD=0&INF=0&class=Business&destination=BOM&destinationCountry=IN&flexi=0&flight_depart_date=13%2F08%2F2022&hb=0&noOfSegments=1&origin=DEL&originCountry=IN&type=O&unique=1530694917645&version=1.1&viewName=normal\"\n",
    "driver.get(url)\n",
    "time.sleep(2)"
   ]
  },
  {
   "cell_type": "code",
   "execution_count": 102,
   "id": "274c14c0",
   "metadata": {},
   "outputs": [
    {
     "data": {
      "text/plain": [
       "73"
      ]
     },
     "execution_count": 102,
     "metadata": {},
     "output_type": "execute_result"
    }
   ],
   "source": [
    "flights=driver.find_elements_by_xpath('//div[@class=\"flight-det table full-width clearfix\"]')\n",
    "len(flights)"
   ]
  },
  {
   "cell_type": "code",
   "execution_count": 104,
   "id": "9637b998",
   "metadata": {},
   "outputs": [
    {
     "name": "stderr",
     "output_type": "stream",
     "text": [
      "100%|██████████████████████████████████████████████████████████████████████████████████| 73/73 [00:02<00:00, 28.35it/s]\n",
      "100%|██████████████████████████████████████████████████████████████████████████████████| 73/73 [00:02<00:00, 28.31it/s]\n",
      "100%|██████████████████████████████████████████████████████████████████████████████████| 73/73 [00:02<00:00, 26.62it/s]\n",
      "100%|██████████████████████████████████████████████████████████████████████████████████| 73/73 [00:03<00:00, 23.72it/s]\n",
      "100%|██████████████████████████████████████████████████████████████████████████████████| 73/73 [00:03<00:00, 23.76it/s]\n",
      "100%|██████████████████████████████████████████████████████████████████████████████████| 73/73 [00:03<00:00, 23.32it/s]\n",
      "100%|██████████████████████████████████████████████████████████████████████████████████| 73/73 [00:03<00:00, 21.76it/s]\n",
      "100%|██████████████████████████████████████████████████████████████████████████████████| 73/73 [00:03<00:00, 19.31it/s]\n",
      "100%|██████████████████████████████████████████████████████████████████████████████████████████| 73/73 [00:00<?, ?it/s]\n"
     ]
    }
   ],
   "source": [
    "# Extracting Airlines Name Via Xpath\n",
    "airlines = driver.find_elements_by_xpath(\"//div[@class='fs-13 airline-name no-pad col-8']/span\")\n",
    "for i in airlines:\n",
    "    Airlines.append(i.text.replace(\"\\n\",\" \"))\n",
    "else :\n",
    "    pass\n",
    "\n",
    "# Extracting Aeroplane model  via xpath\n",
    "aeroplanes = driver.find_elements_by_xpath('//p[@class=\"normal fs-11 font-lightestgrey no-wrap fl-no\"]/span')\n",
    "for i in tqdm(aeroplanes):\n",
    "    Aeroplane.append(i.text) \n",
    "else:\n",
    "    pass\n",
    "\n",
    "# Extracting Departure Time of Filght via Xpath\n",
    "dept_times = driver.find_elements_by_xpath('//div[@class=\"i-b pr\"]')\n",
    "for i in tqdm(dept_times):\n",
    "    Dept_time.append(i.text)\n",
    "else :\n",
    "    pass\n",
    "\n",
    "# Extracting Arrival Time via xpath\n",
    "arrival = driver.find_elements_by_xpath('//p[@class=\"bold fs-15 mb-2 pr time\"]')\n",
    "for i in tqdm(arrival):\n",
    "    Arrival_time.append(i.text)\n",
    "else :\n",
    "    pass\n",
    "\n",
    "# Extracting Source of flight via Xpath\n",
    "source = driver.find_elements_by_xpath(\"//div[@class='i-b col-4 no-wrap text-right dtime col-3']/p\")\n",
    "for i in tqdm(source):\n",
    "    Source.append(i.text)\n",
    "else :\n",
    "    pass\n",
    "\n",
    "# Extracting Destination of Flights via Xpath\n",
    "destination = driver.find_elements_by_xpath('//div[@class=\"i-b pdd-0 text-left atime col-5\"]/p[2]')\n",
    "for i in tqdm(destination):\n",
    "    Destination.append(i.text)\n",
    "else:\n",
    "    pass\n",
    "\n",
    "# Extracting Duration of Flights via Xpath\n",
    "duration = driver.find_elements_by_xpath('//div[@class=\"stop-cont pl-13\"]/p')\n",
    "for i in tqdm(duration):\n",
    "    Duration.append(i.text)\n",
    "else:\n",
    "    pass\n",
    "\n",
    "# Extracting stop details via Xpath\n",
    "stop = driver.find_elements_by_xpath(\"//div[@class='stop-cont pl-13']/div/span\")\n",
    "for i in tqdm(stop):\n",
    "    Stops.append(i.text)\n",
    "else:\n",
    "    pass\n",
    "\n",
    "# Extracting Price of Flights via Xpath\n",
    "count = 0\n",
    "price = driver.find_elements_by_xpath('//div[@class=\"i-b tipsy fare-summary-tooltip fs-18\"]')\n",
    "for i in tqdm(price):\n",
    "    Price.append(i.text.replace(',',''))\n",
    "    count = count +1\n",
    "else:\n",
    "    count = count +1\n",
    "    pass\n",
    "\n",
    "# Clicking on Flights details element\n",
    "Button = driver.find_elements_by_xpath('//div[@class=\"link-color fs-12 cursor-pointer\"]/span')\n",
    "driver.execute_script(\"arguments[0].click();\", WebDriverWait(driver, 20).until(EC.element_to_be_clickable((By.XPATH,'//div[@class=\"link-color fs-12 cursor-pointer\"]/span'))))\n",
    "time.sleep(0.25)\n",
    "\n",
    "# Extracting Date of Flights via Xpath\n",
    "date = driver.find_element_by_xpath('//div[@class=\"bold fs-12 mb-5\"]')\n",
    "a = date.text\n",
    "for i in tqdm(range(count-1)):\n",
    "    Date.append(a)\n",
    "else:\n",
    "    pass"
   ]
  },
  {
   "cell_type": "code",
   "execution_count": 105,
   "id": "470478cf",
   "metadata": {},
   "outputs": [
    {
     "data": {
      "text/plain": [
       "(1496, 1496, 1496, 1496, 1496, 1496, 1496, 1496, 1496, 1496)"
      ]
     },
     "execution_count": 105,
     "metadata": {},
     "output_type": "execute_result"
    }
   ],
   "source": [
    "len(Aeroplane), len(Airlines), len(Dept_time), len(Arrival_time), len(Source), len(Destination), len(Duration), len(Stops),len(Price), len(Date)"
   ]
  },
  {
   "cell_type": "markdown",
   "id": "6e702718",
   "metadata": {},
   "source": [
    "Opening Business flights from New Dehli to Bombay on 14 Aug 2022"
   ]
  },
  {
   "cell_type": "code",
   "execution_count": 106,
   "id": "ba21a9cc",
   "metadata": {},
   "outputs": [],
   "source": [
    "url = \"https://flight.yatra.com/air-search-ui/dom2/trigger?ADT=1&CHD=0&INF=0&class=Business&destination=BOM&destinationCountry=IN&flexi=0&flight_depart_date=14%2F08%2F2022&hb=0&noOfSegments=1&origin=DEL&originCountry=IN&type=O&unique=1530694917645&version=1.1&viewName=normal\"\n",
    "driver.get(url)\n",
    "time.sleep(2)"
   ]
  },
  {
   "cell_type": "code",
   "execution_count": 107,
   "id": "8f3e28f0",
   "metadata": {},
   "outputs": [
    {
     "data": {
      "text/plain": [
       "25"
      ]
     },
     "execution_count": 107,
     "metadata": {},
     "output_type": "execute_result"
    }
   ],
   "source": [
    "flights=driver.find_elements_by_xpath('//div[@class=\"flight-det table full-width clearfix\"]')\n",
    "len(flights)"
   ]
  },
  {
   "cell_type": "code",
   "execution_count": 108,
   "id": "86a4f97a",
   "metadata": {},
   "outputs": [
    {
     "name": "stderr",
     "output_type": "stream",
     "text": [
      "100%|██████████████████████████████████████████████████████████████████████████████████| 25/25 [00:00<00:00, 28.67it/s]\n",
      "100%|██████████████████████████████████████████████████████████████████████████████████| 25/25 [00:00<00:00, 25.75it/s]\n",
      "100%|██████████████████████████████████████████████████████████████████████████████████| 25/25 [00:01<00:00, 15.31it/s]\n",
      "100%|██████████████████████████████████████████████████████████████████████████████████| 25/25 [00:01<00:00, 20.82it/s]\n",
      "100%|██████████████████████████████████████████████████████████████████████████████████| 25/25 [00:00<00:00, 25.35it/s]\n",
      "100%|██████████████████████████████████████████████████████████████████████████████████| 25/25 [00:01<00:00, 23.02it/s]\n",
      "100%|██████████████████████████████████████████████████████████████████████████████████| 25/25 [00:00<00:00, 26.48it/s]\n",
      "100%|██████████████████████████████████████████████████████████████████████████████████| 25/25 [00:00<00:00, 25.67it/s]\n",
      "100%|██████████████████████████████████████████████████████████████████████████████████████████| 25/25 [00:00<?, ?it/s]\n"
     ]
    }
   ],
   "source": [
    "# Extracting Airlines Name Via Xpath\n",
    "airlines = driver.find_elements_by_xpath(\"//div[@class='fs-13 airline-name no-pad col-8']/span\")\n",
    "for i in airlines:\n",
    "    Airlines.append(i.text.replace(\"\\n\",\" \"))\n",
    "else :\n",
    "    pass\n",
    "\n",
    "# Extracting Aeroplane model  via xpath\n",
    "aeroplanes = driver.find_elements_by_xpath('//p[@class=\"normal fs-11 font-lightestgrey no-wrap fl-no\"]/span')\n",
    "for i in tqdm(aeroplanes):\n",
    "    Aeroplane.append(i.text) \n",
    "else:\n",
    "    pass\n",
    "\n",
    "# Extracting Departure Time of Filght via Xpath\n",
    "dept_times = driver.find_elements_by_xpath('//div[@class=\"i-b pr\"]')\n",
    "for i in tqdm(dept_times):\n",
    "    Dept_time.append(i.text)\n",
    "else :\n",
    "    pass\n",
    "\n",
    "# Extracting Arrival Time via xpath\n",
    "arrival = driver.find_elements_by_xpath('//p[@class=\"bold fs-15 mb-2 pr time\"]')\n",
    "for i in tqdm(arrival):\n",
    "    Arrival_time.append(i.text)\n",
    "else :\n",
    "    pass\n",
    "\n",
    "# Extracting Source of flight via Xpath\n",
    "source = driver.find_elements_by_xpath(\"//div[@class='i-b col-4 no-wrap text-right dtime col-3']/p\")\n",
    "for i in tqdm(source):\n",
    "    Source.append(i.text)\n",
    "else :\n",
    "    pass\n",
    "\n",
    "# Extracting Destination of Flights via Xpath\n",
    "destination = driver.find_elements_by_xpath('//div[@class=\"i-b pdd-0 text-left atime col-5\"]/p[2]')\n",
    "for i in tqdm(destination):\n",
    "    Destination.append(i.text)\n",
    "else:\n",
    "    pass\n",
    "\n",
    "# Extracting Duration of Flights via Xpath\n",
    "duration = driver.find_elements_by_xpath('//div[@class=\"stop-cont pl-13\"]/p')\n",
    "for i in tqdm(duration):\n",
    "    Duration.append(i.text)\n",
    "else:\n",
    "    pass\n",
    "\n",
    "# Extracting stop details via Xpath\n",
    "stop = driver.find_elements_by_xpath(\"//div[@class='stop-cont pl-13']/div/span\")\n",
    "for i in tqdm(stop):\n",
    "    Stops.append(i.text)\n",
    "else:\n",
    "    pass\n",
    "\n",
    "# Extracting Price of Flights via Xpath\n",
    "count = 0\n",
    "price = driver.find_elements_by_xpath('//div[@class=\"i-b tipsy fare-summary-tooltip fs-18\"]')\n",
    "for i in tqdm(price):\n",
    "    Price.append(i.text.replace(',',''))\n",
    "    count = count +1\n",
    "else:\n",
    "    count = count +1\n",
    "    pass\n",
    "\n",
    "# Clicking on Flights details element\n",
    "Button = driver.find_elements_by_xpath('//div[@class=\"link-color fs-12 cursor-pointer\"]/span')\n",
    "driver.execute_script(\"arguments[0].click();\", WebDriverWait(driver, 20).until(EC.element_to_be_clickable((By.XPATH,'//div[@class=\"link-color fs-12 cursor-pointer\"]/span'))))\n",
    "time.sleep(0.25)\n",
    "\n",
    "# Extracting Date of Flights via Xpath\n",
    "date = driver.find_element_by_xpath('//div[@class=\"bold fs-12 mb-5\"]')\n",
    "a = date.text\n",
    "for i in tqdm(range(count-1)):\n",
    "    Date.append(a)\n",
    "else:\n",
    "    pass"
   ]
  },
  {
   "cell_type": "code",
   "execution_count": 109,
   "id": "44b01d4b",
   "metadata": {},
   "outputs": [
    {
     "data": {
      "text/plain": [
       "(1521, 1521, 1521, 1521, 1521, 1521, 1521, 1521, 1521, 1521)"
      ]
     },
     "execution_count": 109,
     "metadata": {},
     "output_type": "execute_result"
    }
   ],
   "source": [
    "len(Aeroplane), len(Airlines), len(Dept_time), len(Arrival_time), len(Source), len(Destination), len(Duration), len(Stops),len(Price), len(Date)"
   ]
  },
  {
   "cell_type": "markdown",
   "id": "6183ee68",
   "metadata": {},
   "source": [
    "# Savnig data in csv file"
   ]
  },
  {
   "cell_type": "code",
   "execution_count": 110,
   "id": "053a5e04",
   "metadata": {},
   "outputs": [],
   "source": [
    "import pandas as pd\n",
    "import numpy as np"
   ]
  },
  {
   "cell_type": "code",
   "execution_count": 111,
   "id": "80fc1297",
   "metadata": {},
   "outputs": [
    {
     "data": {
      "text/html": [
       "<div>\n",
       "<style scoped>\n",
       "    .dataframe tbody tr th:only-of-type {\n",
       "        vertical-align: middle;\n",
       "    }\n",
       "\n",
       "    .dataframe tbody tr th {\n",
       "        vertical-align: top;\n",
       "    }\n",
       "\n",
       "    .dataframe thead th {\n",
       "        text-align: right;\n",
       "    }\n",
       "</style>\n",
       "<table border=\"1\" class=\"dataframe\">\n",
       "  <thead>\n",
       "    <tr style=\"text-align: right;\">\n",
       "      <th></th>\n",
       "      <th>Airlines</th>\n",
       "      <th>Aerplane</th>\n",
       "      <th>Date</th>\n",
       "      <th>Depature_Time</th>\n",
       "      <th>Arrival_time</th>\n",
       "      <th>Source</th>\n",
       "      <th>Destination</th>\n",
       "      <th>Stops</th>\n",
       "      <th>Duration</th>\n",
       "      <th>Price</th>\n",
       "    </tr>\n",
       "  </thead>\n",
       "  <tbody>\n",
       "    <tr>\n",
       "      <th>0</th>\n",
       "      <td>Air India</td>\n",
       "      <td>AI-887</td>\n",
       "      <td>Sun, 7 Aug 2022</td>\n",
       "      <td>07:00</td>\n",
       "      <td>09:05</td>\n",
       "      <td>New Delhi</td>\n",
       "      <td>Mumbai</td>\n",
       "      <td>Non Stop</td>\n",
       "      <td>2h 05m</td>\n",
       "      <td>8465</td>\n",
       "    </tr>\n",
       "    <tr>\n",
       "      <th>1</th>\n",
       "      <td>Air India</td>\n",
       "      <td>AI-665</td>\n",
       "      <td>Sun, 7 Aug 2022</td>\n",
       "      <td>08:00</td>\n",
       "      <td>10:10</td>\n",
       "      <td>New Delhi</td>\n",
       "      <td>Mumbai</td>\n",
       "      <td>Non Stop</td>\n",
       "      <td>2h 10m</td>\n",
       "      <td>8465</td>\n",
       "    </tr>\n",
       "    <tr>\n",
       "      <th>2</th>\n",
       "      <td>Air India</td>\n",
       "      <td>AI-805</td>\n",
       "      <td>Sun, 7 Aug 2022</td>\n",
       "      <td>20:00</td>\n",
       "      <td>22:10</td>\n",
       "      <td>New Delhi</td>\n",
       "      <td>Mumbai</td>\n",
       "      <td>Non Stop</td>\n",
       "      <td>2h 10m</td>\n",
       "      <td>8465</td>\n",
       "    </tr>\n",
       "    <tr>\n",
       "      <th>3</th>\n",
       "      <td>Air India</td>\n",
       "      <td>AI-678</td>\n",
       "      <td>Sun, 7 Aug 2022</td>\n",
       "      <td>09:00</td>\n",
       "      <td>11:15</td>\n",
       "      <td>New Delhi</td>\n",
       "      <td>Mumbai</td>\n",
       "      <td>Non Stop</td>\n",
       "      <td>2h 15m</td>\n",
       "      <td>8465</td>\n",
       "    </tr>\n",
       "    <tr>\n",
       "      <th>4</th>\n",
       "      <td>Air India</td>\n",
       "      <td>AI-624</td>\n",
       "      <td>Sun, 7 Aug 2022</td>\n",
       "      <td>19:00</td>\n",
       "      <td>21:15</td>\n",
       "      <td>New Delhi</td>\n",
       "      <td>Mumbai</td>\n",
       "      <td>Non Stop</td>\n",
       "      <td>2h 15m</td>\n",
       "      <td>8465</td>\n",
       "    </tr>\n",
       "  </tbody>\n",
       "</table>\n",
       "</div>"
      ],
      "text/plain": [
       "    Airlines Aerplane             Date Depature_Time Arrival_time     Source  \\\n",
       "0  Air India   AI-887  Sun, 7 Aug 2022         07:00        09:05  New Delhi   \n",
       "1  Air India   AI-665  Sun, 7 Aug 2022         08:00        10:10  New Delhi   \n",
       "2  Air India   AI-805  Sun, 7 Aug 2022         20:00        22:10  New Delhi   \n",
       "3  Air India   AI-678  Sun, 7 Aug 2022         09:00        11:15  New Delhi   \n",
       "4  Air India   AI-624  Sun, 7 Aug 2022         19:00        21:15  New Delhi   \n",
       "\n",
       "  Destination     Stops Duration Price  \n",
       "0      Mumbai  Non Stop   2h 05m  8465  \n",
       "1      Mumbai  Non Stop   2h 10m  8465  \n",
       "2      Mumbai  Non Stop   2h 10m  8465  \n",
       "3      Mumbai  Non Stop   2h 15m  8465  \n",
       "4      Mumbai  Non Stop   2h 15m  8465  "
      ]
     },
     "execution_count": 111,
     "metadata": {},
     "output_type": "execute_result"
    }
   ],
   "source": [
    "Flight=pd.DataFrame()\n",
    "Flight[\"Airlines\"]=Airlines\n",
    "Flight[\"Aerplane\"]=Aeroplane\n",
    "Flight[\"Date\"]=Date\n",
    "Flight[\"Depature_Time\"]=Dept_time\n",
    "Flight[\"Arrival_time\"]=Arrival_time\n",
    "Flight[\"Source\"]=Source\n",
    "Flight[\"Destination\"]=Destination\n",
    "Flight[\"Stops\"]=Stops\n",
    "Flight[\"Duration\"]=Duration\n",
    "Flight[\"Price\"]=Price\n",
    "Flight.head()"
   ]
  },
  {
   "cell_type": "code",
   "execution_count": 112,
   "id": "7e08ffbd",
   "metadata": {},
   "outputs": [],
   "source": [
    "Flight.to_csv('Flight_price_dataset.csv')"
   ]
  },
  {
   "cell_type": "code",
   "execution_count": null,
   "id": "abf0536c",
   "metadata": {},
   "outputs": [],
   "source": []
  }
 ],
 "metadata": {
  "kernelspec": {
   "display_name": "Python 3",
   "language": "python",
   "name": "python3"
  },
  "language_info": {
   "codemirror_mode": {
    "name": "ipython",
    "version": 3
   },
   "file_extension": ".py",
   "mimetype": "text/x-python",
   "name": "python",
   "nbconvert_exporter": "python",
   "pygments_lexer": "ipython3",
   "version": "3.8.8"
  }
 },
 "nbformat": 4,
 "nbformat_minor": 5
}
